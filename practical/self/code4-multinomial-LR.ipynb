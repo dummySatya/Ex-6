{
 "cells": [
  {
   "cell_type": "code",
   "execution_count": 1,
   "metadata": {},
   "outputs": [],
   "source": [
    "import torch\n",
    "import torch.nn as nn\n",
    "from torchvision import datasets, transforms\n",
    "from torch.utils.data import DataLoader\n",
    "from torch.optim import SGD\n",
    "import numpy as np"
   ]
  },
  {
   "cell_type": "code",
   "execution_count": 2,
   "metadata": {},
   "outputs": [],
   "source": [
    "transforms = transforms.Compose([\n",
    "    transforms.ToTensor(),\n",
    "    transforms.Lambda(lambda x: x.view(-1)) # flattens the data\n",
    "])"
   ]
  },
  {
   "cell_type": "code",
   "execution_count": 3,
   "metadata": {},
   "outputs": [],
   "source": [
    "batch_size = 64\n",
    "\n",
    "trainset = datasets.MNIST(root='./data', train=True,\n",
    "                                        download=True, transform=transforms)\n",
    "trainloader = DataLoader(trainset, batch_size=batch_size,\n",
    "                                          shuffle=True, num_workers=2)\n",
    "\n",
    "testset = datasets.MNIST(root='./data', train=False,\n",
    "                                       download=True, transform=transforms)\n",
    "testloader = DataLoader(testset, batch_size=batch_size,\n",
    "                                         shuffle=False, num_workers=2)"
   ]
  },
  {
   "cell_type": "code",
   "execution_count": 4,
   "metadata": {},
   "outputs": [
    {
     "data": {
      "text/plain": [
       "torch.Size([784])"
      ]
     },
     "execution_count": 4,
     "metadata": {},
     "output_type": "execute_result"
    }
   ],
   "source": [
    "trainset[0][0].shape # input features"
   ]
  },
  {
   "cell_type": "code",
   "execution_count": 5,
   "metadata": {},
   "outputs": [
    {
     "data": {
      "text/plain": [
       "60032"
      ]
     },
     "execution_count": 5,
     "metadata": {},
     "output_type": "execute_result"
    }
   ],
   "source": [
    "# No. of samples in trainset\n",
    "len(trainloader) * batch_size"
   ]
  },
  {
   "cell_type": "code",
   "execution_count": 6,
   "metadata": {},
   "outputs": [
    {
     "data": {
      "text/plain": [
       "10048"
      ]
     },
     "execution_count": 6,
     "metadata": {},
     "output_type": "execute_result"
    }
   ],
   "source": [
    "# No. of samples in testset\n",
    "len(testloader) * batch_size"
   ]
  },
  {
   "cell_type": "code",
   "execution_count": 7,
   "metadata": {},
   "outputs": [],
   "source": [
    "class SoftmaxReg(nn.Module):\n",
    "    def __init__(self, x_dim, y_dim):\n",
    "        super(SoftmaxReg,self).__init__()\n",
    "        self.linear = nn.Linear(x_dim,y_dim)\n",
    "    \n",
    "    def forward(self,X):\n",
    "        X = self.linear(X)\n",
    "        return X"
   ]
  },
  {
   "cell_type": "code",
   "execution_count": 8,
   "metadata": {},
   "outputs": [],
   "source": [
    "x_dim = trainset[0][0].shape[0]\n",
    "y_dim = 10\n",
    "model = SoftmaxReg(x_dim,y_dim)\n",
    "criterion = nn.CrossEntropyLoss()\n",
    "epochs = 100\n",
    "lr = 0.001\n",
    "optimizer = SGD(model.parameters(),lr=lr)\n",
    "losses = []\n",
    "accuracy = []"
   ]
  },
  {
   "cell_type": "code",
   "execution_count": 9,
   "metadata": {},
   "outputs": [
    {
     "name": "stdout",
     "output_type": "stream",
     "text": [
      "Epoch 1/30, Loss: 1.9092542606630305\n",
      "Epoch 2/30, Loss: 1.3925526633953997\n",
      "Epoch 3/30, Loss: 1.1238562828188003\n",
      "Epoch 4/30, Loss: 0.9665084286793463\n",
      "Epoch 5/30, Loss: 0.8644985505131516\n",
      "Epoch 6/30, Loss: 0.7928672313436008\n",
      "Epoch 7/30, Loss: 0.7396810311498418\n",
      "Epoch 8/30, Loss: 0.6984286327669615\n",
      "Epoch 9/30, Loss: 0.6654613566106317\n",
      "Epoch 10/30, Loss: 0.6382714157610305\n",
      "Epoch 11/30, Loss: 0.6156592705547174\n",
      "Epoch 12/30, Loss: 0.5961418612870072\n",
      "Epoch 13/30, Loss: 0.5793110483617925\n",
      "Epoch 14/30, Loss: 0.5646853933392811\n",
      "Epoch 15/30, Loss: 0.5516459522470991\n",
      "Epoch 16/30, Loss: 0.5402865693576808\n",
      "Epoch 17/30, Loss: 0.5297846625735765\n",
      "Epoch 18/30, Loss: 0.5202838299688755\n",
      "Epoch 19/30, Loss: 0.5117063342190501\n",
      "Epoch 20/30, Loss: 0.5039154482421591\n",
      "Epoch 21/30, Loss: 0.49664119969425935\n",
      "Epoch 22/30, Loss: 0.49025337499723254\n",
      "Epoch 23/30, Loss: 0.4838950328195273\n",
      "Epoch 24/30, Loss: 0.4780852317428792\n",
      "Epoch 25/30, Loss: 0.47280357658926614\n",
      "Epoch 26/30, Loss: 0.4676935147406704\n",
      "Epoch 27/30, Loss: 0.46298653753136776\n",
      "Epoch 28/30, Loss: 0.4587750911299608\n",
      "Epoch 29/30, Loss: 0.454521403892208\n",
      "Epoch 30/30, Loss: 0.45063427934196715\n"
     ]
    }
   ],
   "source": [
    "for epoch in range(epochs):\n",
    "    epoch_loss = 0\n",
    "    for i ,(xi,yi)in enumerate(trainloader):\n",
    "\n",
    "        output = model(xi)\n",
    "        loss = criterion(output,yi)\n",
    "        \n",
    "        optimizer.zero_grad()\n",
    "        loss.backward()\n",
    "        optimizer.step()\n",
    "        \n",
    "        epoch_loss += loss.item()\n",
    "    avg_loss = epoch_loss / len(trainloader)\n",
    "    losses.append(avg_loss)\n",
    "    print(f'Epoch {epoch + 1}/{epochs}, Loss: {avg_loss}')"
   ]
  },
  {
   "cell_type": "code",
   "execution_count": 10,
   "metadata": {},
   "outputs": [
    {
     "data": {
      "text/plain": [
       "Text(0, 0.5, 'Loss')"
      ]
     },
     "execution_count": 10,
     "metadata": {},
     "output_type": "execute_result"
    },
    {
     "data": {
      "image/png": "[encoded data removed]",
      "text/plain": [
       "<Figure size 640x480 with 1 Axes>"
      ]
     },
     "metadata": {},
     "output_type": "display_data"
    }
   ],
   "source": [
    "import matplotlib.pyplot as plt\n",
    "plt.plot(range(epochs),losses,label = 'loss')\n",
    "plt.xlabel('Epochs')\n",
    "plt.ylabel('Loss')"
   ]
  },
  {
   "cell_type": "code",
   "execution_count": 12,
   "metadata": {},
   "outputs": [],
   "source": [
    "PATH = './mnist-softmax-reg.pth'\n",
    "torch.save(model.state_dict(), PATH)"
   ]
  },
  {
   "cell_type": "code",
   "execution_count": 11,
   "metadata": {},
   "outputs": [
    {
     "name": "stdout",
     "output_type": "stream",
     "text": [
      "              precision    recall  f1-score   support\n",
      "\n",
      "         0.0       0.92      0.97      0.95       980\n",
      "         1.0       0.94      0.97      0.95      1135\n",
      "         2.0       0.90      0.84      0.87      1032\n",
      "         3.0       0.87      0.88      0.88      1010\n",
      "         4.0       0.88      0.91      0.90       982\n",
      "         5.0       0.87      0.79      0.83       892\n",
      "         6.0       0.91      0.93      0.92       958\n",
      "         7.0       0.91      0.88      0.89      1028\n",
      "         8.0       0.83      0.85      0.84       974\n",
      "         9.0       0.86      0.86      0.86      1009\n",
      "\n",
      "    accuracy                           0.89     10000\n",
      "   macro avg       0.89      0.89      0.89     10000\n",
      "weighted avg       0.89      0.89      0.89     10000\n",
      "\n"
     ]
    }
   ],
   "source": [
    "from sklearn.metrics import classification_report\n",
    "model.eval()\n",
    "y_pred = np.array([])\n",
    "y_true = np.array([])\n",
    "with torch.no_grad(): \n",
    "    for xi, yi in testloader:\n",
    "        output = model(xi)\n",
    "        _,y_pred_tensor = torch.max(output,1)\n",
    "        y_pred = np.hstack((y_pred,y_pred_tensor.numpy()))\n",
    "        y_true = np.hstack((y_true,yi.numpy()))\n",
    "\n",
    "print(classification_report(y_pred=y_pred,y_true=y_true))\n"
   ]
  },
  {
   "cell_type": "code",
   "execution_count": null,
   "metadata": {},
   "outputs": [],
   "source": []
  }
 ],
 "metadata": {
  "kernelspec": {
   "display_name": "ex5",
   "language": "python",
   "name": "python3"
  },
  "language_info": {
   "codemirror_mode": {
    "name": "ipython",
    "version": 3
   },
   "file_extension": ".py",
   "mimetype": "text/x-python",
   "name": "python",
   "nbconvert_exporter": "python",
   "pygments_lexer": "ipython3",
   "version": "3.9.19"
  }
 },
 "nbformat": 4,
 "nbformat_minor": 2
}
