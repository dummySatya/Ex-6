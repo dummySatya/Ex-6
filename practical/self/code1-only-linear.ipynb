{
 "cells": [
  {
   "cell_type": "code",
   "execution_count": 1,
   "metadata": {},
   "outputs": [],
   "source": [
    "import torch\n",
    "import torch.nn as nn\n",
    "from torchvision import datasets, transforms\n",
    "from torch.utils.data import DataLoader\n",
    "from torch.optim import SGD"
   ]
  },
  {
   "cell_type": "code",
   "execution_count": 2,
   "metadata": {},
   "outputs": [],
   "source": [
    "transforms = transforms.Compose([\n",
    "    transforms.ToTensor(),\n",
    "    transforms.Lambda(lambda x: x.view(-1)) # flattens the data\n",
    "])"
   ]
  },
  {
   "cell_type": "code",
   "execution_count": 3,
   "metadata": {},
   "outputs": [],
   "source": [
    "batch_size = 64\n",
    "\n",
    "trainset = datasets.MNIST(root='./data2', train=True,\n",
    "                                        download=True, transform=transforms)\n",
    "trainloader = DataLoader(trainset, batch_size=batch_size,\n",
    "                                          shuffle=True, num_workers=2)\n",
    "\n",
    "testset = datasets.MNIST(root='./data2', train=False,\n",
    "                                       download=True, transform=transforms)\n",
    "testloader = DataLoader(testset, batch_size=batch_size,\n",
    "                                         shuffle=False, num_workers=2)"
   ]
  },
  {
   "cell_type": "code",
   "execution_count": 4,
   "metadata": {},
   "outputs": [
    {
     "data": {
      "text/plain": [
       "60032"
      ]
     },
     "execution_count": 4,
     "metadata": {},
     "output_type": "execute_result"
    }
   ],
   "source": [
    "# No. of samples in trainset\n",
    "len(trainloader) * batch_size"
   ]
  },
  {
   "cell_type": "code",
   "execution_count": 5,
   "metadata": {},
   "outputs": [
    {
     "data": {
      "text/plain": [
       "10048"
      ]
     },
     "execution_count": 5,
     "metadata": {},
     "output_type": "execute_result"
    }
   ],
   "source": [
    "# No. of samples in testset\n",
    "len(testloader) * batch_size"
   ]
  },
  {
   "cell_type": "code",
   "execution_count": 6,
   "metadata": {},
   "outputs": [],
   "source": [
    "class LinearRegression(nn.Module):\n",
    "    def __init__(self, x_dim,hidden_dim, y_dim):\n",
    "        super(LinearRegression,self).__init__()\n",
    "        self.hidden = nn.Linear(x_dim,hidden_dim)\n",
    "        self.linear = nn.Linear(hidden_dim,y_dim)\n",
    "    \n",
    "    def forward(self,X):\n",
    "        X = self.hidden(X)\n",
    "        X = self.linear(X)\n",
    "        return X"
   ]
  },
  {
   "cell_type": "code",
   "execution_count": 9,
   "metadata": {},
   "outputs": [],
   "source": [
    "x_dim = trainset[0][0].shape[0]\n",
    "y_dim = 1\n",
    "hidden_dim = 128\n",
    "model = LinearRegression(x_dim,hidden_dim,y_dim)\n",
    "criterion = nn.MSELoss()\n",
    "epochs = 100\n",
    "lr = 0.01\n",
    "optimizer = SGD(model.parameters(),lr=lr)\n",
    "losses = []"
   ]
  },
  {
   "cell_type": "code",
   "execution_count": 10,
   "metadata": {},
   "outputs": [
    {
     "name": "stdout",
     "output_type": "stream",
     "text": [
      "Epoch 1/100, Loss: 3.858265690839113\n",
      "Epoch 2/100, Loss: 3.444175884286478\n",
      "Epoch 3/100, Loss: 3.3942216511474235\n",
      "Epoch 4/100, Loss: 3.3551882239801287\n",
      "Epoch 5/100, Loss: 3.338802586740522\n",
      "Epoch 6/100, Loss: 3.329937461342639\n",
      "Epoch 7/100, Loss: 3.326817882848955\n",
      "Epoch 8/100, Loss: 3.311747736895262\n",
      "Epoch 9/100, Loss: 3.308186990619977\n",
      "Epoch 10/100, Loss: 3.3065709621667354\n",
      "Epoch 11/100, Loss: 3.305589476755179\n",
      "Epoch 12/100, Loss: 3.2969679976068833\n",
      "Epoch 13/100, Loss: 3.2964117881585793\n",
      "Epoch 14/100, Loss: 3.2991561846438247\n",
      "Epoch 15/100, Loss: 3.2941969498388293\n",
      "Epoch 16/100, Loss: 3.29014261838978\n",
      "Epoch 17/100, Loss: 3.287710514277029\n",
      "Epoch 18/100, Loss: 3.2876447854774087\n",
      "Epoch 19/100, Loss: 3.279453004092804\n",
      "Epoch 20/100, Loss: 3.283335334710729\n",
      "Epoch 21/100, Loss: 3.2849280320759267\n",
      "Epoch 22/100, Loss: 3.2809984883519885\n",
      "Epoch 23/100, Loss: 3.2818757739148414\n",
      "Epoch 24/100, Loss: 3.273094278662952\n",
      "Epoch 25/100, Loss: 3.274598993980554\n",
      "Epoch 26/100, Loss: 3.2772653953098794\n",
      "Epoch 27/100, Loss: 3.272883464786798\n",
      "Epoch 28/100, Loss: 3.2768809003616446\n",
      "Epoch 29/100, Loss: 3.2739414463419396\n",
      "Epoch 30/100, Loss: 3.2746447596722827\n",
      "Epoch 31/100, Loss: 3.2727294607457322\n",
      "Epoch 32/100, Loss: 3.2708532548408265\n",
      "Epoch 33/100, Loss: 3.2742227481118142\n",
      "Epoch 34/100, Loss: 3.2733585243540277\n",
      "Epoch 35/100, Loss: 3.2715396082985886\n",
      "Epoch 36/100, Loss: 3.2693561293931404\n",
      "Epoch 37/100, Loss: 3.269360783511896\n",
      "Epoch 38/100, Loss: 3.268642952447253\n",
      "Epoch 39/100, Loss: 3.2722437829096944\n",
      "Epoch 40/100, Loss: 3.2669157388367887\n",
      "Epoch 41/100, Loss: 3.2650847443893776\n",
      "Epoch 42/100, Loss: 3.264012699696555\n",
      "Epoch 43/100, Loss: 3.2682640828303438\n",
      "Epoch 44/100, Loss: 3.263734559641718\n",
      "Epoch 45/100, Loss: 3.264618446069486\n",
      "Epoch 46/100, Loss: 3.2626573670901724\n",
      "Epoch 47/100, Loss: 3.2613654165888137\n",
      "Epoch 48/100, Loss: 3.2623669623311904\n",
      "Epoch 49/100, Loss: 3.260380484020786\n",
      "Epoch 50/100, Loss: 3.2605476939856115\n",
      "Epoch 51/100, Loss: 3.263267574661068\n",
      "Epoch 52/100, Loss: 3.2597087919076624\n",
      "Epoch 53/100, Loss: 3.261792372157579\n",
      "Epoch 54/100, Loss: 3.2592534054316946\n",
      "Epoch 55/100, Loss: 3.262375297576888\n",
      "Epoch 56/100, Loss: 3.2593051775940447\n",
      "Epoch 57/100, Loss: 3.2621944166704027\n",
      "Epoch 58/100, Loss: 3.2589866321986674\n",
      "Epoch 59/100, Loss: 3.2570909969588078\n",
      "Epoch 60/100, Loss: 3.2625668435208577\n",
      "Epoch 61/100, Loss: 3.2598044599043026\n",
      "Epoch 62/100, Loss: 3.2553479526597044\n",
      "Epoch 63/100, Loss: 3.2589577023408562\n",
      "Epoch 64/100, Loss: 3.2586535233170237\n",
      "Epoch 65/100, Loss: 3.257620405413703\n",
      "Epoch 66/100, Loss: 3.2545172883503475\n",
      "Epoch 67/100, Loss: 3.256748855876516\n",
      "Epoch 68/100, Loss: 3.257438551769582\n",
      "Epoch 69/100, Loss: 3.2578008251149515\n",
      "Epoch 70/100, Loss: 3.2555281523702497\n",
      "Epoch 71/100, Loss: 3.256846840066442\n",
      "Epoch 72/100, Loss: 3.2578974170471304\n",
      "Epoch 73/100, Loss: 3.255035926284058\n",
      "Epoch 74/100, Loss: 3.2561575162893672\n",
      "Epoch 75/100, Loss: 3.255832364055902\n",
      "Epoch 76/100, Loss: 3.257948117978029\n",
      "Epoch 77/100, Loss: 3.252945940758882\n",
      "Epoch 78/100, Loss: 3.2544478297487758\n",
      "Epoch 79/100, Loss: 3.2571518527927683\n",
      "Epoch 80/100, Loss: 3.2538796227369735\n",
      "Epoch 81/100, Loss: 3.2549851938351386\n",
      "Epoch 82/100, Loss: 3.251741127800077\n",
      "Epoch 83/100, Loss: 3.251841382685501\n",
      "Epoch 84/100, Loss: 3.254891173798901\n",
      "Epoch 85/100, Loss: 3.2528219323422607\n",
      "Epoch 86/100, Loss: 3.254827844689904\n",
      "Epoch 87/100, Loss: 3.2551228771331724\n",
      "Epoch 88/100, Loss: 3.250101155690801\n",
      "Epoch 89/100, Loss: 3.2509957207545543\n",
      "Epoch 90/100, Loss: 3.2544150887521854\n",
      "Epoch 91/100, Loss: 3.251730006005464\n",
      "Epoch 92/100, Loss: 3.2534123528232453\n",
      "Epoch 93/100, Loss: 3.251901668017861\n",
      "Epoch 94/100, Loss: 3.2549341847139126\n",
      "Epoch 95/100, Loss: 3.2500460353741514\n",
      "Epoch 96/100, Loss: 3.2520091418010084\n",
      "Epoch 97/100, Loss: 3.2499304801416296\n",
      "Epoch 98/100, Loss: 3.2522830694977407\n",
      "Epoch 99/100, Loss: 3.2505202701351026\n",
      "Epoch 100/100, Loss: 3.251170152031791\n"
     ]
    }
   ],
   "source": [
    "for epoch in range(epochs):\n",
    "    epoch_loss = 0\n",
    "    for xi,yi in trainloader:\n",
    "        \n",
    "        yi = yi.float().view(-1,1)\n",
    "        output = model(xi)\n",
    "        loss = criterion(output,yi)\n",
    "        \n",
    "        optimizer.zero_grad()\n",
    "        loss.backward()\n",
    "        optimizer.step()\n",
    "        \n",
    "        epoch_loss += loss.item()\n",
    "    avg_loss = epoch_loss / len(trainloader)\n",
    "    losses.append(avg_loss)\n",
    "    print(f'Epoch {epoch + 1}/{epochs}, Loss: {avg_loss}')"
   ]
  },
  {
   "cell_type": "code",
   "execution_count": 11,
   "metadata": {},
   "outputs": [
    {
     "data": {
      "text/plain": [
       "Text(0, 0.5, 'Loss')"
      ]
     },
     "execution_count": 11,
     "metadata": {},
     "output_type": "execute_result"
    },
    {
     "data": {
      "image/png": "[encoded data removed]",
      "text/plain": [
       "<Figure size 640x480 with 1 Axes>"
      ]
     },
     "metadata": {},
     "output_type": "display_data"
    }
   ],
   "source": [
    "import matplotlib.pyplot as plt\n",
    "plt.plot(range(epochs),losses,label = 'loss')\n",
    "plt.xlabel('Epochs')\n",
    "plt.ylabel('Loss')"
   ]
  },
  {
   "cell_type": "code",
   "execution_count": 12,
   "metadata": {},
   "outputs": [],
   "source": [
    "PATH = './mnist-only-linear-hidden.pth'\n",
    "torch.save(model.state_dict(), PATH)"
   ]
  },
  {
   "cell_type": "code",
   "execution_count": 13,
   "metadata": {},
   "outputs": [
    {
     "name": "stdout",
     "output_type": "stream",
     "text": [
      "Test Loss: 3.151611300031091\n",
      "R2 Score: 0.6243277788162231\n"
     ]
    }
   ],
   "source": [
    "from sklearn.metrics import r2_score\n",
    "\n",
    "model.eval()\n",
    "test_loss = 0\n",
    "all_outputs = []\n",
    "all_targets = []\n",
    "with torch.no_grad(): \n",
    "    for xi, yi in testloader:\n",
    "        yi = yi.float().view(-1, 1)\n",
    "        output = model(xi)\n",
    "        loss = criterion(output, yi)\n",
    "        test_loss += loss.item()\n",
    "\n",
    "        all_outputs.append(output)\n",
    "        all_targets.append(yi)\n",
    "\n",
    "all_outputs = torch.cat(all_outputs).numpy()\n",
    "all_targets = torch.cat(all_targets).numpy()\n",
    "\n",
    "avg_test_loss = test_loss / len(testloader)\n",
    "print(f'Test Loss: {avg_test_loss}')\n",
    "print(f'R2 Score: {r2_score(all_targets,all_outputs)}')\n"
   ]
  },
  {
   "cell_type": "code",
   "execution_count": null,
   "metadata": {},
   "outputs": [],
   "source": []
  }
 ],
 "metadata": {
  "kernelspec": {
   "display_name": "ex5",
   "language": "python",
   "name": "python3"
  },
  "language_info": {
   "codemirror_mode": {
    "name": "ipython",
    "version": 3
   },
   "file_extension": ".py",
   "mimetype": "text/x-python",
   "name": "python",
   "nbconvert_exporter": "python",
   "pygments_lexer": "ipython3",
   "version": "3.9.19"
  }
 },
 "nbformat": 4,
 "nbformat_minor": 2
}
