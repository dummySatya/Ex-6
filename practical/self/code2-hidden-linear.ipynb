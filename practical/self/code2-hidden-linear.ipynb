{
 "cells": [
  {
   "cell_type": "code",
   "execution_count": 1,
   "metadata": {},
   "outputs": [],
   "source": [
    "import torch\n",
    "import torch.nn as nn\n",
    "from torchvision import datasets, transforms\n",
    "from torch.utils.data import DataLoader\n",
    "from torch.optim import SGD"
   ]
  },
  {
   "cell_type": "code",
   "execution_count": 2,
   "metadata": {},
   "outputs": [],
   "source": [
    "transforms = transforms.Compose([\n",
    "    transforms.ToTensor(),\n",
    "    transforms.Lambda(lambda x: x.view(-1)) # flattens the data\n",
    "])"
   ]
  },
  {
   "cell_type": "code",
   "execution_count": 3,
   "metadata": {},
   "outputs": [
    {
     "name": "stdout",
     "output_type": "stream",
     "text": [
      "Downloading http://yann.lecun.com/exdb/mnist/train-images-idx3-ubyte.gz\n",
      "Failed to download (trying next):\n",
      "<urlopen error [SSL: CERTIFICATE_VERIFY_FAILED] certificate verify failed: certificate has expired (_ssl.c:1133)>\n",
      "\n",
      "Downloading https://ossci-datasets.s3.amazonaws.com/mnist/train-images-idx3-ubyte.gz\n",
      "Downloading https://ossci-datasets.s3.amazonaws.com/mnist/train-images-idx3-ubyte.gz to ./data2/MNIST/raw/train-images-idx3-ubyte.gz\n"
     ]
    },
    {
     "name": "stderr",
     "output_type": "stream",
     "text": [
      "100.0%\n"
     ]
    },
    {
     "name": "stdout",
     "output_type": "stream",
     "text": [
      "Extracting ./data2/MNIST/raw/train-images-idx3-ubyte.gz to ./data2/MNIST/raw\n",
      "\n",
      "Downloading http://yann.lecun.com/exdb/mnist/train-labels-idx1-ubyte.gz\n",
      "Failed to download (trying next):\n",
      "<urlopen error [SSL: CERTIFICATE_VERIFY_FAILED] certificate verify failed: certificate has expired (_ssl.c:1133)>\n",
      "\n",
      "Downloading https://ossci-datasets.s3.amazonaws.com/mnist/train-labels-idx1-ubyte.gz\n",
      "Downloading https://ossci-datasets.s3.amazonaws.com/mnist/train-labels-idx1-ubyte.gz to ./data2/MNIST/raw/train-labels-idx1-ubyte.gz\n"
     ]
    },
    {
     "name": "stderr",
     "output_type": "stream",
     "text": [
      "100.0%\n"
     ]
    },
    {
     "name": "stdout",
     "output_type": "stream",
     "text": [
      "Extracting ./data2/MNIST/raw/train-labels-idx1-ubyte.gz to ./data2/MNIST/raw\n",
      "\n",
      "Downloading http://yann.lecun.com/exdb/mnist/t10k-images-idx3-ubyte.gz\n",
      "Failed to download (trying next):\n",
      "<urlopen error [SSL: CERTIFICATE_VERIFY_FAILED] certificate verify failed: certificate has expired (_ssl.c:1133)>\n",
      "\n",
      "Downloading https://ossci-datasets.s3.amazonaws.com/mnist/t10k-images-idx3-ubyte.gz\n",
      "Downloading https://ossci-datasets.s3.amazonaws.com/mnist/t10k-images-idx3-ubyte.gz to ./data2/MNIST/raw/t10k-images-idx3-ubyte.gz\n"
     ]
    },
    {
     "name": "stderr",
     "output_type": "stream",
     "text": [
      "100.0%\n"
     ]
    },
    {
     "name": "stdout",
     "output_type": "stream",
     "text": [
      "Extracting ./data2/MNIST/raw/t10k-images-idx3-ubyte.gz to ./data2/MNIST/raw\n",
      "\n",
      "Downloading http://yann.lecun.com/exdb/mnist/t10k-labels-idx1-ubyte.gz\n",
      "Failed to download (trying next):\n",
      "<urlopen error [SSL: CERTIFICATE_VERIFY_FAILED] certificate verify failed: certificate has expired (_ssl.c:1133)>\n",
      "\n",
      "Downloading https://ossci-datasets.s3.amazonaws.com/mnist/t10k-labels-idx1-ubyte.gz\n",
      "Downloading https://ossci-datasets.s3.amazonaws.com/mnist/t10k-labels-idx1-ubyte.gz to ./data2/MNIST/raw/t10k-labels-idx1-ubyte.gz\n"
     ]
    },
    {
     "name": "stderr",
     "output_type": "stream",
     "text": [
      "100.0%"
     ]
    },
    {
     "name": "stdout",
     "output_type": "stream",
     "text": [
      "Extracting ./data2/MNIST/raw/t10k-labels-idx1-ubyte.gz to ./data2/MNIST/raw\n",
      "\n"
     ]
    },
    {
     "name": "stderr",
     "output_type": "stream",
     "text": [
      "\n"
     ]
    }
   ],
   "source": [
    "batch_size = 64\n",
    "\n",
    "trainset = datasets.MNIST(root='./data2', train=True,\n",
    "                                        download=True, transform=transforms)\n",
    "trainloader = DataLoader(trainset, batch_size=batch_size,\n",
    "                                          shuffle=True, num_workers=2)\n",
    "\n",
    "testset = datasets.MNIST(root='./data2', train=False,\n",
    "                                       download=True, transform=transforms)\n",
    "testloader = DataLoader(testset, batch_size=batch_size,\n",
    "                                         shuffle=False, num_workers=2)"
   ]
  },
  {
   "cell_type": "code",
   "execution_count": 5,
   "metadata": {},
   "outputs": [
    {
     "data": {
      "text/plain": [
       "60032"
      ]
     },
     "execution_count": 5,
     "metadata": {},
     "output_type": "execute_result"
    }
   ],
   "source": [
    "# No. of samples in trainset\n",
    "len(trainloader) * batch_size"
   ]
  },
  {
   "cell_type": "code",
   "execution_count": 6,
   "metadata": {},
   "outputs": [
    {
     "data": {
      "text/plain": [
       "10048"
      ]
     },
     "execution_count": 6,
     "metadata": {},
     "output_type": "execute_result"
    }
   ],
   "source": [
    "# No. of samples in testset\n",
    "len(testloader) * batch_size"
   ]
  },
  {
   "cell_type": "code",
   "execution_count": 7,
   "metadata": {},
   "outputs": [],
   "source": [
    "class LinearRegression(nn.Module):\n",
    "    def __init__(self, x_dim,hidden_dim, y_dim):\n",
    "        super(LinearRegression,self).__init__()\n",
    "        self.hidden = nn.Linear(x_dim,hidden_dim)\n",
    "        self.relu = nn.ReLU()\n",
    "        self.linear = nn.Linear(hidden_dim,y_dim)\n",
    "    \n",
    "    def forward(self,X):\n",
    "        X = self.hidden(X)\n",
    "        X = self.relu(X)\n",
    "        X = self.linear(X)\n",
    "        return X"
   ]
  },
  {
   "cell_type": "code",
   "execution_count": 8,
   "metadata": {},
   "outputs": [],
   "source": [
    "x_dim = trainset[0][0].shape[0]\n",
    "y_dim = 1\n",
    "hidden_dim = 128\n",
    "model = LinearRegression(x_dim,hidden_dim,y_dim)\n",
    "criterion = nn.MSELoss()\n",
    "epochs = 100\n",
    "lr = 0.01\n",
    "optimizer = SGD(model.parameters(),lr=lr)\n",
    "losses = []"
   ]
  },
  {
   "cell_type": "code",
   "execution_count": 9,
   "metadata": {},
   "outputs": [
    {
     "name": "stdout",
     "output_type": "stream",
     "text": [
      "Epoch 1/100, Loss: 2.780419108011067\n",
      "Epoch 2/100, Loss: 1.439612839077073\n",
      "Epoch 3/100, Loss: 1.1695060079921282\n",
      "Epoch 4/100, Loss: 1.0180949777174098\n",
      "Epoch 5/100, Loss: 0.919652166968978\n",
      "Epoch 6/100, Loss: 0.8428794519225163\n",
      "Epoch 7/100, Loss: 0.7903241308004871\n",
      "Epoch 8/100, Loss: 0.7438493201028563\n",
      "Epoch 9/100, Loss: 0.7111048470618628\n",
      "Epoch 10/100, Loss: 0.6851116846174573\n",
      "Epoch 11/100, Loss: 0.6525459650006376\n",
      "Epoch 12/100, Loss: 0.629352703404579\n",
      "Epoch 13/100, Loss: 0.6052565818656482\n",
      "Epoch 14/100, Loss: 0.5901448066904347\n",
      "Epoch 15/100, Loss: 0.5812639442842398\n",
      "Epoch 16/100, Loss: 0.5596671472353213\n",
      "Epoch 17/100, Loss: 0.5482426933419984\n",
      "Epoch 18/100, Loss: 0.5270127168914148\n",
      "Epoch 19/100, Loss: 0.5166217012922647\n",
      "Epoch 20/100, Loss: 0.5040026735712979\n",
      "Epoch 21/100, Loss: 0.5023044897263238\n",
      "Epoch 22/100, Loss: 0.49149614537575603\n",
      "Epoch 23/100, Loss: 0.48222882163994857\n",
      "Epoch 24/100, Loss: 0.47430620277360047\n",
      "Epoch 25/100, Loss: 0.46391387893828245\n",
      "Epoch 26/100, Loss: 0.4558793156068208\n",
      "Epoch 27/100, Loss: 0.44303962554949433\n",
      "Epoch 28/100, Loss: 0.4401321529484253\n",
      "Epoch 29/100, Loss: 0.4354816973209381\n",
      "Epoch 30/100, Loss: 0.42472027526544864\n",
      "Epoch 31/100, Loss: 0.428536485666151\n",
      "Epoch 32/100, Loss: 0.41767791674526006\n",
      "Epoch 33/100, Loss: 0.40495687545235476\n",
      "Epoch 34/100, Loss: 0.4039970799359177\n",
      "Epoch 35/100, Loss: 0.39713914495414254\n",
      "Epoch 36/100, Loss: 0.3938573549932508\n",
      "Epoch 37/100, Loss: 0.3920821711929368\n",
      "Epoch 38/100, Loss: 0.3901650318935482\n",
      "Epoch 39/100, Loss: 0.378261096656386\n",
      "Epoch 40/100, Loss: 0.37806596089082994\n",
      "Epoch 41/100, Loss: 0.3681769686212926\n",
      "Epoch 42/100, Loss: 0.3700066571360204\n",
      "Epoch 43/100, Loss: 0.3575599706694007\n",
      "Epoch 44/100, Loss: 0.3581249055101165\n",
      "Epoch 45/100, Loss: 0.3584805370044352\n",
      "Epoch 46/100, Loss: 0.35413944307389034\n",
      "Epoch 47/100, Loss: 0.35102191781089\n",
      "Epoch 48/100, Loss: 0.3505730460098049\n",
      "Epoch 49/100, Loss: 0.3382886407265404\n",
      "Epoch 50/100, Loss: 0.3371306864787012\n",
      "Epoch 51/100, Loss: 0.3357740936995442\n",
      "Epoch 52/100, Loss: 0.33276946589287154\n",
      "Epoch 53/100, Loss: 0.33093782249035864\n",
      "Epoch 54/100, Loss: 0.32188485715307913\n",
      "Epoch 55/100, Loss: 0.329726626417403\n",
      "Epoch 56/100, Loss: 0.31847650236857217\n",
      "Epoch 57/100, Loss: 0.32475569331124904\n",
      "Epoch 58/100, Loss: 0.3171265583826916\n",
      "Epoch 59/100, Loss: 0.31391000419632714\n",
      "Epoch 60/100, Loss: 0.3122086611701481\n",
      "Epoch 61/100, Loss: 0.3094788874898638\n",
      "Epoch 62/100, Loss: 0.3055823161753256\n",
      "Epoch 63/100, Loss: 0.3039558811752654\n",
      "Epoch 64/100, Loss: 0.2981922826501352\n",
      "Epoch 65/100, Loss: 0.3009005791025121\n",
      "Epoch 66/100, Loss: 0.306207552202729\n",
      "Epoch 67/100, Loss: 0.29769605406915456\n",
      "Epoch 68/100, Loss: 0.2892040741850318\n",
      "Epoch 69/100, Loss: 0.29256461312903015\n",
      "Epoch 70/100, Loss: 0.282925504436498\n",
      "Epoch 71/100, Loss: 0.29012755958287956\n",
      "Epoch 72/100, Loss: 0.28577594304167386\n",
      "Epoch 73/100, Loss: 0.2843514583321777\n",
      "Epoch 74/100, Loss: 0.28460106329082935\n",
      "Epoch 75/100, Loss: 0.27998772192833776\n",
      "Epoch 76/100, Loss: 0.2782585099577777\n",
      "Epoch 77/100, Loss: 0.2719452790439383\n",
      "Epoch 78/100, Loss: 0.27320258540988984\n",
      "Epoch 79/100, Loss: 0.26985941106862604\n",
      "Epoch 80/100, Loss: 0.27596585915636407\n",
      "Epoch 81/100, Loss: 0.2637129618303735\n",
      "Epoch 82/100, Loss: 0.26578607842294394\n",
      "Epoch 83/100, Loss: 0.2637415952297416\n",
      "Epoch 84/100, Loss: 0.2618007796929716\n",
      "Epoch 85/100, Loss: 0.259582615149682\n",
      "Epoch 86/100, Loss: 0.2636309602001964\n",
      "Epoch 87/100, Loss: 0.2632912249087906\n",
      "Epoch 88/100, Loss: 0.25754387194572737\n",
      "Epoch 89/100, Loss: 0.2591938650144189\n",
      "Epoch 90/100, Loss: 0.26024270616074613\n",
      "Epoch 91/100, Loss: 0.2473755595304056\n",
      "Epoch 92/100, Loss: 0.25201974032339514\n",
      "Epoch 93/100, Loss: 0.2516892662784184\n",
      "Epoch 94/100, Loss: 0.2542178718520126\n",
      "Epoch 95/100, Loss: 0.2471717246480461\n",
      "Epoch 96/100, Loss: 0.24863247415309014\n",
      "Epoch 97/100, Loss: 0.2397495824962791\n",
      "Epoch 98/100, Loss: 0.24851165438638823\n",
      "Epoch 99/100, Loss: 0.2445384744070232\n",
      "Epoch 100/100, Loss: 0.23561517721903857\n"
     ]
    }
   ],
   "source": [
    "for epoch in range(epochs):\n",
    "    epoch_loss = 0\n",
    "    for xi,yi in trainloader:\n",
    "        \n",
    "        yi = yi.float().view(-1,1)\n",
    "        output = model(xi)\n",
    "        loss = criterion(output,yi)\n",
    "        \n",
    "        optimizer.zero_grad()\n",
    "        loss.backward()\n",
    "        optimizer.step()\n",
    "        \n",
    "        epoch_loss += loss.item()\n",
    "    avg_loss = epoch_loss / len(trainloader)\n",
    "    losses.append(avg_loss)\n",
    "    print(f'Epoch {epoch + 1}/{epochs}, Loss: {avg_loss}')"
   ]
  },
  {
   "cell_type": "code",
   "execution_count": 10,
   "metadata": {},
   "outputs": [
    {
     "data": {
      "text/plain": [
       "Text(0, 0.5, 'Loss')"
      ]
     },
     "execution_count": 10,
     "metadata": {},
     "output_type": "execute_result"
    },
    {
     "data": {
      "image/png": "[encoded data removed]",
      "text/plain": [
       "<Figure size 640x480 with 1 Axes>"
      ]
     },
     "metadata": {},
     "output_type": "display_data"
    }
   ],
   "source": [
    "import matplotlib.pyplot as plt\n",
    "plt.plot(range(epochs),losses,label = 'loss')\n",
    "plt.xlabel('Epochs')\n",
    "plt.ylabel('Loss')"
   ]
  },
  {
   "cell_type": "code",
   "execution_count": 11,
   "metadata": {},
   "outputs": [],
   "source": [
    "PATH = './mnist-relu-linear-hidden.pth'\n",
    "torch.save(model.state_dict(), PATH)"
   ]
  },
  {
   "cell_type": "code",
   "execution_count": 12,
   "metadata": {},
   "outputs": [
    {
     "name": "stdout",
     "output_type": "stream",
     "text": [
      "Test Loss: 0.6371985533434874\n",
      "R2 Score: 0.9238705039024353\n"
     ]
    }
   ],
   "source": [
    "from sklearn.metrics import r2_score\n",
    "\n",
    "model.eval()\n",
    "test_loss = 0\n",
    "all_outputs = []\n",
    "all_targets = []\n",
    "with torch.no_grad(): \n",
    "    for xi, yi in testloader:\n",
    "        yi = yi.float().view(-1, 1)\n",
    "        output = model(xi)\n",
    "        loss = criterion(output, yi)\n",
    "        test_loss += loss.item()\n",
    "\n",
    "        all_outputs.append(output)\n",
    "        all_targets.append(yi)\n",
    "\n",
    "all_outputs = torch.cat(all_outputs).numpy()\n",
    "all_targets = torch.cat(all_targets).numpy()\n",
    "\n",
    "avg_test_loss = test_loss / len(testloader)\n",
    "print(f'Test Loss: {avg_test_loss}')\n",
    "print(f'R2 Score: {r2_score(all_targets,all_outputs)}')\n"
   ]
  },
  {
   "cell_type": "code",
   "execution_count": null,
   "metadata": {},
   "outputs": [],
   "source": []
  }
 ],
 "metadata": {
  "kernelspec": {
   "display_name": "ex5",
   "language": "python",
   "name": "python3"
  },
  "language_info": {
   "codemirror_mode": {
    "name": "ipython",
    "version": 3
   },
   "file_extension": ".py",
   "mimetype": "text/x-python",
   "name": "python",
   "nbconvert_exporter": "python",
   "pygments_lexer": "ipython3",
   "version": "3.9.19"
  }
 },
 "nbformat": 4,
 "nbformat_minor": 2
}
