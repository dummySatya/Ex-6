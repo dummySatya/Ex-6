{
 "cells": [
  {
   "cell_type": "code",
   "execution_count": 1,
   "metadata": {},
   "outputs": [],
   "source": [
    "import torch\n",
    "import torch.nn as nn\n",
    "from torchvision import datasets, transforms\n",
    "from torch.utils.data import DataLoader\n",
    "from torch.optim import SGD\n",
    "import numpy as np\n",
    "from sklearn.metrics import classification_report\n",
    "import matplotlib.pyplot as plt"
   ]
  },
  {
   "cell_type": "code",
   "execution_count": 2,
   "metadata": {},
   "outputs": [],
   "source": [
    "transforms = transforms.Compose([\n",
    "    transforms.ToTensor(),\n",
    "    transforms.Lambda(lambda x: x.view(-1)) # flattens the data\n",
    "])"
   ]
  },
  {
   "cell_type": "code",
   "execution_count": 3,
   "metadata": {},
   "outputs": [],
   "source": [
    "batch_size = 64\n",
    "\n",
    "trainset = datasets.MNIST(root='./data', train=True,\n",
    "                                        download=True, transform=transforms)\n",
    "trainloader = DataLoader(trainset, batch_size=batch_size,\n",
    "                                          shuffle=True, num_workers=2)\n",
    "\n",
    "testset = datasets.MNIST(root='./data', train=False,\n",
    "                                       download=True, transform=transforms)\n",
    "testloader = DataLoader(testset, batch_size=batch_size,\n",
    "                                         shuffle=False, num_workers=2)"
   ]
  },
  {
   "cell_type": "code",
   "execution_count": 4,
   "metadata": {},
   "outputs": [
    {
     "data": {
      "text/plain": [
       "torch.Size([784])"
      ]
     },
     "execution_count": 4,
     "metadata": {},
     "output_type": "execute_result"
    }
   ],
   "source": [
    "trainset[0][0].shape # input features"
   ]
  },
  {
   "cell_type": "code",
   "execution_count": 5,
   "metadata": {},
   "outputs": [
    {
     "data": {
      "text/plain": [
       "60032"
      ]
     },
     "execution_count": 5,
     "metadata": {},
     "output_type": "execute_result"
    }
   ],
   "source": [
    "# No. of samples in trainset\n",
    "len(trainloader) * batch_size"
   ]
  },
  {
   "cell_type": "code",
   "execution_count": 6,
   "metadata": {},
   "outputs": [
    {
     "data": {
      "text/plain": [
       "10048"
      ]
     },
     "execution_count": 6,
     "metadata": {},
     "output_type": "execute_result"
    }
   ],
   "source": [
    "# No. of samples in testset\n",
    "len(testloader) * batch_size"
   ]
  },
  {
   "cell_type": "code",
   "execution_count": 15,
   "metadata": {},
   "outputs": [],
   "source": [
    "class SoftmaxRegNoHidden(nn.Module):\n",
    "    def __init__(self, x_dim,y_dim):\n",
    "        super(SoftmaxRegNoHidden,self).__init__()\n",
    "        self.linear1 = nn.Linear(x_dim,y_dim)\n",
    "    def forward(self,X):\n",
    "        X = self.linear1(X)\n",
    "        return X"
   ]
  },
  {
   "cell_type": "code",
   "execution_count": 16,
   "metadata": {},
   "outputs": [],
   "source": [
    "class SoftmaxRegHidden(nn.Module):\n",
    "    def __init__(self, x_dim,hidden_dim,y_dim):\n",
    "        super(SoftmaxRegHidden,self).__init__()\n",
    "        self.linear1 = nn.Linear(x_dim,hidden_dim)\n",
    "        self.linear2 = nn.Linear(hidden_dim,y_dim)\n",
    "    def forward(self,X):\n",
    "        X = self.linear1(X)\n",
    "        X = self.linear2(X)\n",
    "        return X"
   ]
  },
  {
   "cell_type": "code",
   "execution_count": 26,
   "metadata": {},
   "outputs": [],
   "source": [
    "class SoftmaxRegHiddenWithActivation(nn.Module):\n",
    "    def __init__(self, x_dim,hidden_dim,y_dim):\n",
    "        super(SoftmaxRegHiddenWithActivation,self).__init__()\n",
    "        self.linear1 = nn.Linear(x_dim,hidden_dim)\n",
    "        self.relu = nn.ReLU()\n",
    "        self.linear2 = nn.Linear(hidden_dim,y_dim)\n",
    "    def forward(self,X):\n",
    "        X = self.linear1(X)\n",
    "        X = self.relu(X)\n",
    "        X = self.linear2(X)\n",
    "        return X"
   ]
  },
  {
   "cell_type": "code",
   "execution_count": 18,
   "metadata": {},
   "outputs": [],
   "source": [
    "x_dim = trainset[0][0].shape[0]\n",
    "y_dim = 10\n",
    "hidden_dim = 128\n",
    "epochs = 50\n",
    "lr = 0.001"
   ]
  },
  {
   "cell_type": "code",
   "execution_count": 19,
   "metadata": {},
   "outputs": [],
   "source": [
    "model_without_hidden_layer = SoftmaxRegNoHidden(x_dim,y_dim)\n",
    "criterion1 = nn.CrossEntropyLoss()\n",
    "optimizer1 = SGD(model_without_hidden_layer.parameters(),lr=lr)\n",
    "losses1 = []\n",
    "accuracy1 = []"
   ]
  },
  {
   "cell_type": "code",
   "execution_count": 20,
   "metadata": {},
   "outputs": [
    {
     "name": "stdout",
     "output_type": "stream",
     "text": [
      "TRAINING MODEL WITH NO HIDDEN LAYERS\n",
      "Epoch 1/50, Loss: 1.9419276619008354\n",
      "Epoch 2/50, Loss: 1.41310389616342\n",
      "Epoch 3/50, Loss: 1.136451278223412\n",
      "Epoch 4/50, Loss: 0.975292825431966\n",
      "Epoch 5/50, Loss: 0.8709647070878604\n",
      "Epoch 6/50, Loss: 0.7979537776029949\n",
      "Epoch 7/50, Loss: 0.7437133578730545\n",
      "Epoch 8/50, Loss: 0.7017891503918146\n",
      "Epoch 9/50, Loss: 0.6680261772324536\n",
      "Epoch 10/50, Loss: 0.6404850870561498\n",
      "Epoch 11/50, Loss: 0.6174615752468231\n",
      "Epoch 12/50, Loss: 0.597688619166549\n",
      "Epoch 13/50, Loss: 0.5807117069962182\n",
      "Epoch 14/50, Loss: 0.5657477277174179\n",
      "Epoch 15/50, Loss: 0.5525727046768802\n",
      "Epoch 16/50, Loss: 0.5409216998355475\n",
      "Epoch 17/50, Loss: 0.5303962215113995\n",
      "Epoch 18/50, Loss: 0.5209106548762779\n",
      "Epoch 19/50, Loss: 0.5122122875790098\n",
      "Epoch 20/50, Loss: 0.5043554239308656\n",
      "Epoch 21/50, Loss: 0.49712651102209904\n",
      "Epoch 22/50, Loss: 0.49050274882108164\n",
      "Epoch 23/50, Loss: 0.4841406806699757\n",
      "Epoch 24/50, Loss: 0.4782576497270863\n",
      "Epoch 25/50, Loss: 0.47311978212106964\n",
      "Epoch 26/50, Loss: 0.467936762932267\n",
      "Epoch 27/50, Loss: 0.4632351234364611\n",
      "Epoch 28/50, Loss: 0.45876914215113307\n",
      "Epoch 29/50, Loss: 0.45458504594147586\n",
      "Epoch 30/50, Loss: 0.45050689573290503\n",
      "Epoch 31/50, Loss: 0.44676843874934896\n",
      "Epoch 32/50, Loss: 0.4431650400924276\n",
      "Epoch 33/50, Loss: 0.43981273734429754\n",
      "Epoch 34/50, Loss: 0.43676572661600643\n",
      "Epoch 35/50, Loss: 0.4335519216779961\n",
      "Epoch 36/50, Loss: 0.430669280972435\n",
      "Epoch 37/50, Loss: 0.42782490938774814\n",
      "Epoch 38/50, Loss: 0.42510493328449317\n",
      "Epoch 39/50, Loss: 0.42260969002872134\n",
      "Epoch 40/50, Loss: 0.4201911192681235\n",
      "Epoch 41/50, Loss: 0.41779803270215926\n",
      "Epoch 42/50, Loss: 0.4155338278520844\n",
      "Epoch 43/50, Loss: 0.4133168156149545\n",
      "Epoch 44/50, Loss: 0.41119659136035547\n",
      "Epoch 45/50, Loss: 0.4091300488884515\n",
      "Epoch 46/50, Loss: 0.4071185361983171\n",
      "Epoch 47/50, Loss: 0.40541912462792673\n",
      "Epoch 48/50, Loss: 0.40344449580668895\n",
      "Epoch 49/50, Loss: 0.4016281818943237\n",
      "Epoch 50/50, Loss: 0.3998972967362353\n"
     ]
    }
   ],
   "source": [
    "print(\"TRAINING MODEL WITH NO HIDDEN LAYERS\")\n",
    "for epoch in range(epochs):\n",
    "    epoch_loss = 0\n",
    "    for i ,(xi,yi)in enumerate(trainloader):\n",
    "\n",
    "        output = model_without_hidden_layer(xi)\n",
    "        loss = criterion1(output,yi)\n",
    "        \n",
    "        optimizer1.zero_grad()\n",
    "        loss.backward()\n",
    "        optimizer1.step()\n",
    "        \n",
    "        epoch_loss += loss.item()\n",
    "    avg_loss = epoch_loss / len(trainloader)\n",
    "    losses1.append(avg_loss)\n",
    "    print(f'Epoch {epoch + 1}/{epochs}, Loss: {avg_loss}')"
   ]
  },
  {
   "cell_type": "code",
   "execution_count": 21,
   "metadata": {},
   "outputs": [],
   "source": [
    "PATH = './mnist-no-hidden-layer.pth'\n",
    "torch.save(model_without_hidden_layer.state_dict(), PATH)"
   ]
  },
  {
   "cell_type": "code",
   "execution_count": 22,
   "metadata": {},
   "outputs": [],
   "source": [
    "model_with_hidden_layer = SoftmaxRegHidden(x_dim,hidden_dim,y_dim)\n",
    "criterion2 = nn.CrossEntropyLoss()\n",
    "optimizer2 = SGD(model_with_hidden_layer.parameters(),lr=lr)\n",
    "losses2 = []\n",
    "accuracy2 = []"
   ]
  },
  {
   "cell_type": "code",
   "execution_count": 23,
   "metadata": {},
   "outputs": [
    {
     "name": "stdout",
     "output_type": "stream",
     "text": [
      "Epoch 1/50, Loss: 2.1225724808697\n",
      "Epoch 2/50, Loss: 1.7476523700299293\n",
      "Epoch 3/50, Loss: 1.3931806421737427\n",
      "Epoch 4/50, Loss: 1.1188939554350716\n",
      "Epoch 5/50, Loss: 0.932342430485337\n",
      "Epoch 6/50, Loss: 0.8075300169143595\n",
      "Epoch 7/50, Loss: 0.7207779402036403\n",
      "Epoch 8/50, Loss: 0.6581981755268853\n",
      "Epoch 9/50, Loss: 0.6108957488081856\n",
      "Epoch 10/50, Loss: 0.5742338945997804\n",
      "Epoch 11/50, Loss: 0.5447421714758822\n",
      "Epoch 12/50, Loss: 0.5207179808603929\n",
      "Epoch 13/50, Loss: 0.5006628179156196\n",
      "Epoch 14/50, Loss: 0.483926509711534\n",
      "Epoch 15/50, Loss: 0.4693701825162241\n",
      "Epoch 16/50, Loss: 0.4570055439083307\n",
      "Epoch 17/50, Loss: 0.4460941324356014\n",
      "Epoch 18/50, Loss: 0.43656715235984656\n",
      "Epoch 19/50, Loss: 0.4278906405385115\n",
      "Epoch 20/50, Loss: 0.4203922794953084\n",
      "Epoch 21/50, Loss: 0.4136344206326806\n",
      "Epoch 22/50, Loss: 0.40738925196405157\n",
      "Epoch 23/50, Loss: 0.4016008589948927\n",
      "Epoch 24/50, Loss: 0.39645624656412903\n",
      "Epoch 25/50, Loss: 0.39168434463012447\n",
      "Epoch 26/50, Loss: 0.3874232866553101\n",
      "Epoch 27/50, Loss: 0.38318792824297826\n",
      "Epoch 28/50, Loss: 0.37941088560801833\n",
      "Epoch 29/50, Loss: 0.37595638741594134\n",
      "Epoch 30/50, Loss: 0.3726201648079256\n",
      "Epoch 31/50, Loss: 0.36957758517344114\n",
      "Epoch 32/50, Loss: 0.3667817343590356\n",
      "Epoch 33/50, Loss: 0.36390537126803957\n",
      "Epoch 34/50, Loss: 0.36151257357490596\n",
      "Epoch 35/50, Loss: 0.35894387559309954\n",
      "Epoch 36/50, Loss: 0.3565774805335475\n",
      "Epoch 37/50, Loss: 0.3543751442165517\n",
      "Epoch 38/50, Loss: 0.35227241019990396\n",
      "Epoch 39/50, Loss: 0.3503431783381429\n",
      "Epoch 40/50, Loss: 0.34855595123030736\n",
      "Epoch 41/50, Loss: 0.3465696660789854\n",
      "Epoch 42/50, Loss: 0.3448555666182849\n",
      "Epoch 43/50, Loss: 0.3432205683752291\n",
      "Epoch 44/50, Loss: 0.3416697639408015\n",
      "Epoch 45/50, Loss: 0.3403223312453929\n",
      "Epoch 46/50, Loss: 0.3387133709307927\n",
      "Epoch 47/50, Loss: 0.3372704905074543\n",
      "Epoch 48/50, Loss: 0.33590582805846547\n",
      "Epoch 49/50, Loss: 0.33456469348657614\n",
      "Epoch 50/50, Loss: 0.33339143979714625\n"
     ]
    }
   ],
   "source": [
    "for epoch in range(epochs):\n",
    "    epoch_loss = 0\n",
    "    for i ,(xi,yi)in enumerate(trainloader):\n",
    "\n",
    "        output = model_with_hidden_layer(xi)\n",
    "        loss = criterion2(output,yi)\n",
    "        \n",
    "        optimizer2.zero_grad()\n",
    "        loss.backward()\n",
    "        optimizer2.step()\n",
    "        \n",
    "        epoch_loss += loss.item()\n",
    "    avg_loss = epoch_loss / len(trainloader)\n",
    "    losses2.append(avg_loss)\n",
    "    print(f'Epoch {epoch + 1}/{epochs}, Loss: {avg_loss}')"
   ]
  },
  {
   "cell_type": "code",
   "execution_count": 24,
   "metadata": {},
   "outputs": [],
   "source": [
    "PATH = './mnist-with-hidden-layer.pth'\n",
    "torch.save(model_with_hidden_layer.state_dict(), PATH)"
   ]
  },
  {
   "cell_type": "code",
   "execution_count": 27,
   "metadata": {},
   "outputs": [],
   "source": [
    "model_with_hidden_act_layer = SoftmaxRegHiddenWithActivation(x_dim,hidden_dim,y_dim)\n",
    "criterion3 = nn.CrossEntropyLoss()\n",
    "optimizer3 = SGD(model_with_hidden_act_layer.parameters(),lr=lr)\n",
    "losses3 = []\n",
    "accuracy3 = []"
   ]
  },
  {
   "cell_type": "code",
   "execution_count": 28,
   "metadata": {},
   "outputs": [
    {
     "name": "stdout",
     "output_type": "stream",
     "text": [
      "Epoch 1/50, Loss: 2.244756853148373\n",
      "Epoch 2/50, Loss: 2.054769087193617\n",
      "Epoch 3/50, Loss: 1.7911311713363063\n",
      "Epoch 4/50, Loss: 1.4927672084206458\n",
      "Epoch 5/50, Loss: 1.2255854957393493\n",
      "Epoch 6/50, Loss: 1.0229650074993368\n",
      "Epoch 7/50, Loss: 0.8796898496430566\n",
      "Epoch 8/50, Loss: 0.778190896963514\n",
      "Epoch 9/50, Loss: 0.7043329044572835\n",
      "Epoch 10/50, Loss: 0.6484521640770471\n",
      "Epoch 11/50, Loss: 0.6050386866018462\n",
      "Epoch 12/50, Loss: 0.570412243638974\n",
      "Epoch 13/50, Loss: 0.5421171179458276\n",
      "Epoch 14/50, Loss: 0.5184981390230183\n",
      "Epoch 15/50, Loss: 0.49861792115959275\n",
      "Epoch 16/50, Loss: 0.48179473850264476\n",
      "Epoch 17/50, Loss: 0.467037610360173\n",
      "Epoch 18/50, Loss: 0.4541821921748647\n",
      "Epoch 19/50, Loss: 0.44270374967472387\n",
      "Epoch 20/50, Loss: 0.4326477158806726\n",
      "Epoch 21/50, Loss: 0.423716209892398\n",
      "Epoch 22/50, Loss: 0.41554890615917217\n",
      "Epoch 23/50, Loss: 0.4082167242476935\n",
      "Epoch 24/50, Loss: 0.4016835486996911\n",
      "Epoch 25/50, Loss: 0.39541034155817173\n",
      "Epoch 26/50, Loss: 0.3898293280334615\n",
      "Epoch 27/50, Loss: 0.3845393811461768\n",
      "Epoch 28/50, Loss: 0.37966781600451927\n",
      "Epoch 29/50, Loss: 0.37520486318162766\n",
      "Epoch 30/50, Loss: 0.37085904870460284\n",
      "Epoch 31/50, Loss: 0.36702400502333765\n",
      "Epoch 32/50, Loss: 0.36322162894488397\n",
      "Epoch 33/50, Loss: 0.3597104929085734\n",
      "Epoch 34/50, Loss: 0.35635205266127457\n",
      "Epoch 35/50, Loss: 0.3532898534399106\n",
      "Epoch 36/50, Loss: 0.35017140815729525\n",
      "Epoch 37/50, Loss: 0.3475108902448657\n",
      "Epoch 38/50, Loss: 0.34466270322420955\n",
      "Epoch 39/50, Loss: 0.34201205075422586\n",
      "Epoch 40/50, Loss: 0.3395675957790697\n",
      "Epoch 41/50, Loss: 0.3371870306445591\n",
      "Epoch 42/50, Loss: 0.33478582509831073\n",
      "Epoch 43/50, Loss: 0.332631200123062\n",
      "Epoch 44/50, Loss: 0.33039029929906066\n",
      "Epoch 45/50, Loss: 0.32818226770424386\n",
      "Epoch 46/50, Loss: 0.3265544717102798\n",
      "Epoch 47/50, Loss: 0.32414120981402234\n",
      "Epoch 48/50, Loss: 0.3223500099581188\n",
      "Epoch 49/50, Loss: 0.3204975613176441\n",
      "Epoch 50/50, Loss: 0.31874257125166944\n"
     ]
    }
   ],
   "source": [
    "for epoch in range(epochs):\n",
    "    epoch_loss = 0\n",
    "    for i ,(xi,yi)in enumerate(trainloader):\n",
    "\n",
    "        output = model_with_hidden_act_layer(xi)\n",
    "        loss = criterion3(output,yi)\n",
    "        \n",
    "        optimizer3.zero_grad()\n",
    "        loss.backward()\n",
    "        optimizer3.step()\n",
    "        \n",
    "        epoch_loss += loss.item()\n",
    "    avg_loss = epoch_loss / len(trainloader)\n",
    "    losses3.append(avg_loss)\n",
    "    print(f'Epoch {epoch + 1}/{epochs}, Loss: {avg_loss}')"
   ]
  },
  {
   "cell_type": "code",
   "execution_count": 29,
   "metadata": {},
   "outputs": [],
   "source": [
    "PATH = './mnist-hidden-act-layer.pth'\n",
    "torch.save(model_with_hidden_act_layer.state_dict(), PATH)"
   ]
  },
  {
   "cell_type": "code",
   "execution_count": 30,
   "metadata": {},
   "outputs": [
    {
     "data": {
      "text/plain": [
       "Text(0, 0.5, 'Loss')"
      ]
     },
     "execution_count": 30,
     "metadata": {},
     "output_type": "execute_result"
    },
    {
     "data": {
      "image/png": "[encoded data removed]",
      "text/plain": [
       "<Figure size 640x480 with 1 Axes>"
      ]
     },
     "metadata": {},
     "output_type": "display_data"
    }
   ],
   "source": [
    "plt.plot(range(epochs),losses1,label = 'without hidden layer',c='g')\n",
    "plt.plot(range(epochs),losses2,label = 'with hidden layer',c='r')\n",
    "plt.plot(range(epochs),losses3,label = 'with hidden and activation layer',c='b')\n",
    "plt.xlabel('Epochs')\n",
    "plt.ylabel('Loss')"
   ]
  },
  {
   "cell_type": "code",
   "execution_count": 31,
   "metadata": {},
   "outputs": [
    {
     "name": "stdout",
     "output_type": "stream",
     "text": [
      "CLASSIFICATION REPORT FOR MODEL WITHOUT HIDDEN LAYERS\n",
      "              precision    recall  f1-score   support\n",
      "\n",
      "         0.0       0.93      0.98      0.95       980\n",
      "         1.0       0.95      0.97      0.96      1135\n",
      "         2.0       0.91      0.86      0.88      1032\n",
      "         3.0       0.88      0.89      0.89      1010\n",
      "         4.0       0.89      0.91      0.90       982\n",
      "         5.0       0.88      0.82      0.85       892\n",
      "         6.0       0.92      0.93      0.93       958\n",
      "         7.0       0.91      0.89      0.90      1028\n",
      "         8.0       0.85      0.86      0.85       974\n",
      "         9.0       0.86      0.87      0.87      1009\n",
      "\n",
      "    accuracy                           0.90     10000\n",
      "   macro avg       0.90      0.90      0.90     10000\n",
      "weighted avg       0.90      0.90      0.90     10000\n",
      "\n"
     ]
    }
   ],
   "source": [
    "model_without_hidden_layer.eval()\n",
    "y_pred = np.array([])\n",
    "y_true = np.array([])\n",
    "with torch.no_grad(): \n",
    "    for xi, yi in testloader:\n",
    "        output = model_without_hidden_layer(xi)\n",
    "        _,y_pred_tensor = torch.max(output,1)\n",
    "        y_pred = np.hstack((y_pred,y_pred_tensor.numpy()))\n",
    "        y_true = np.hstack((y_true,yi.numpy()))\n",
    "\n",
    "print(\"CLASSIFICATION REPORT FOR MODEL WITHOUT HIDDEN LAYERS\")\n",
    "print(classification_report(y_pred=y_pred,y_true=y_true))\n"
   ]
  },
  {
   "cell_type": "code",
   "execution_count": 32,
   "metadata": {},
   "outputs": [
    {
     "name": "stdout",
     "output_type": "stream",
     "text": [
      "CLASSIFICATION REPORT FOR MODEL WITH HIDDEN LAYERS\n",
      "              precision    recall  f1-score   support\n",
      "\n",
      "         0.0       0.94      0.98      0.96       980\n",
      "         1.0       0.96      0.97      0.97      1135\n",
      "         2.0       0.92      0.88      0.90      1032\n",
      "         3.0       0.89      0.90      0.89      1010\n",
      "         4.0       0.90      0.92      0.91       982\n",
      "         5.0       0.88      0.84      0.86       892\n",
      "         6.0       0.93      0.94      0.94       958\n",
      "         7.0       0.92      0.91      0.91      1028\n",
      "         8.0       0.86      0.87      0.87       974\n",
      "         9.0       0.88      0.88      0.88      1009\n",
      "\n",
      "    accuracy                           0.91     10000\n",
      "   macro avg       0.91      0.91      0.91     10000\n",
      "weighted avg       0.91      0.91      0.91     10000\n",
      "\n"
     ]
    }
   ],
   "source": [
    "model_with_hidden_layer.eval()\n",
    "y_pred = np.array([])\n",
    "y_true = np.array([])\n",
    "with torch.no_grad(): \n",
    "    for xi, yi in testloader:\n",
    "        output = model_with_hidden_layer(xi)\n",
    "        _,y_pred_tensor = torch.max(output,1)\n",
    "        y_pred = np.hstack((y_pred,y_pred_tensor.numpy()))\n",
    "        y_true = np.hstack((y_true,yi.numpy()))\n",
    "\n",
    "print(\"CLASSIFICATION REPORT FOR MODEL WITH HIDDEN LAYERS\")\n",
    "print(classification_report(y_pred=y_pred,y_true=y_true))\n"
   ]
  },
  {
   "cell_type": "code",
   "execution_count": 33,
   "metadata": {},
   "outputs": [
    {
     "name": "stdout",
     "output_type": "stream",
     "text": [
      "CLASSIFICATION REPORT FOR MODEL WITH HIDDEN AND ACTIVATION LAYERS\n",
      "              precision    recall  f1-score   support\n",
      "\n",
      "         0.0       0.94      0.98      0.96       980\n",
      "         1.0       0.96      0.97      0.97      1135\n",
      "         2.0       0.92      0.88      0.90      1032\n",
      "         3.0       0.90      0.90      0.90      1010\n",
      "         4.0       0.90      0.93      0.91       982\n",
      "         5.0       0.89      0.85      0.87       892\n",
      "         6.0       0.93      0.94      0.94       958\n",
      "         7.0       0.93      0.92      0.92      1028\n",
      "         8.0       0.86      0.87      0.87       974\n",
      "         9.0       0.90      0.88      0.89      1009\n",
      "\n",
      "    accuracy                           0.91     10000\n",
      "   macro avg       0.91      0.91      0.91     10000\n",
      "weighted avg       0.91      0.91      0.91     10000\n",
      "\n"
     ]
    }
   ],
   "source": [
    "model_with_hidden_act_layer.eval()\n",
    "y_pred = np.array([])\n",
    "y_true = np.array([])\n",
    "with torch.no_grad(): \n",
    "    for xi, yi in testloader:\n",
    "        output = model_with_hidden_act_layer(xi)\n",
    "        _,y_pred_tensor = torch.max(output,1)\n",
    "        y_pred = np.hstack((y_pred,y_pred_tensor.numpy()))\n",
    "        y_true = np.hstack((y_true,yi.numpy()))\n",
    "\n",
    "print(\"CLASSIFICATION REPORT FOR MODEL WITH HIDDEN AND ACTIVATION LAYERS\")\n",
    "print(classification_report(y_pred=y_pred,y_true=y_true))\n"
   ]
  },
  {
   "cell_type": "code",
   "execution_count": null,
   "metadata": {},
   "outputs": [],
   "source": []
  }
 ],
 "metadata": {
  "kernelspec": {
   "display_name": "ex5",
   "language": "python",
   "name": "python3"
  },
  "language_info": {
   "codemirror_mode": {
    "name": "ipython",
    "version": 3
   },
   "file_extension": ".py",
   "mimetype": "text/x-python",
   "name": "python",
   "nbconvert_exporter": "python",
   "pygments_lexer": "ipython3",
   "version": "3.9.19"
  }
 },
 "nbformat": 4,
 "nbformat_minor": 2
}
