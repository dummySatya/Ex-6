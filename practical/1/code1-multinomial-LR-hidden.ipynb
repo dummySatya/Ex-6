{
 "cells": [
  {
   "cell_type": "code",
   "execution_count": 23,
   "metadata": {},
   "outputs": [],
   "source": [
    "import torch\n",
    "import torch.nn as nn\n",
    "from torchvision import datasets, transforms\n",
    "from torch.utils.data import DataLoader\n",
    "from torch.optim import SGD\n",
    "import numpy as np\n",
    "from sklearn.metrics import classification_report\n",
    "import matplotlib.pyplot as plt"
   ]
  },
  {
   "cell_type": "code",
   "execution_count": 24,
   "metadata": {},
   "outputs": [],
   "source": [
    "transforms = transforms.Compose([\n",
    "    transforms.ToTensor(),\n",
    "    transforms.Lambda(lambda x: x.view(-1)) # flattens the data\n",
    "])"
   ]
  },
  {
   "cell_type": "code",
   "execution_count": 25,
   "metadata": {},
   "outputs": [],
   "source": [
    "batch_size = 64\n",
    "\n",
    "trainset = datasets.MNIST(root='./data', train=True,\n",
    "                                        download=True, transform=transforms)\n",
    "trainloader = DataLoader(trainset, batch_size=batch_size,\n",
    "                                          shuffle=True, num_workers=2)\n",
    "\n",
    "testset = datasets.MNIST(root='./data', train=False,\n",
    "                                       download=True, transform=transforms)\n",
    "testloader = DataLoader(testset, batch_size=batch_size,\n",
    "                                         shuffle=False, num_workers=2)"
   ]
  },
  {
   "cell_type": "code",
   "execution_count": 26,
   "metadata": {},
   "outputs": [
    {
     "data": {
      "text/plain": [
       "torch.Size([784])"
      ]
     },
     "execution_count": 26,
     "metadata": {},
     "output_type": "execute_result"
    }
   ],
   "source": [
    "trainset[0][0].shape # input features"
   ]
  },
  {
   "cell_type": "code",
   "execution_count": 27,
   "metadata": {},
   "outputs": [
    {
     "data": {
      "text/plain": [
       "60032"
      ]
     },
     "execution_count": 27,
     "metadata": {},
     "output_type": "execute_result"
    }
   ],
   "source": [
    "# No. of samples in trainset\n",
    "len(trainloader) * batch_size"
   ]
  },
  {
   "cell_type": "code",
   "execution_count": 28,
   "metadata": {},
   "outputs": [
    {
     "data": {
      "text/plain": [
       "10048"
      ]
     },
     "execution_count": 28,
     "metadata": {},
     "output_type": "execute_result"
    }
   ],
   "source": [
    "# No. of samples in testset\n",
    "len(testloader) * batch_size"
   ]
  },
  {
   "cell_type": "code",
   "execution_count": 29,
   "metadata": {},
   "outputs": [],
   "source": [
    "class SoftmaxRegNoHidden(nn.Module):\n",
    "    def __init__(self, x_dim,y_dim):\n",
    "        super(SoftmaxRegNoHidden,self).__init__()\n",
    "        self.linear1 = nn.Linear(x_dim,y_dim)\n",
    "    def forward(self,X):\n",
    "        X = self.linear1(X)\n",
    "        return X"
   ]
  },
  {
   "cell_type": "code",
   "execution_count": 30,
   "metadata": {},
   "outputs": [],
   "source": [
    "class SoftmaxRegHidden(nn.Module):\n",
    "    def __init__(self, x_dim,hidden_dim,y_dim):\n",
    "        super(SoftmaxRegHidden,self).__init__()\n",
    "        self.linear1 = nn.Linear(x_dim,hidden_dim)\n",
    "        self.linear2 = nn.Linear(hidden_dim,y_dim)\n",
    "    def forward(self,X):\n",
    "        X = self.linear1(X)\n",
    "        X = self.linear2(X)\n",
    "        return X"
   ]
  },
  {
   "cell_type": "code",
   "execution_count": 31,
   "metadata": {},
   "outputs": [],
   "source": [
    "x_dim = trainset[0][0].shape[0]\n",
    "y_dim = 10\n",
    "hidden_dim = 128\n",
    "epochs = 100\n",
    "lr = 0.001"
   ]
  },
  {
   "cell_type": "code",
   "execution_count": 32,
   "metadata": {},
   "outputs": [],
   "source": [
    "model_without_hidden_layer = SoftmaxRegNoHidden(x_dim,y_dim)\n",
    "criterion1 = nn.CrossEntropyLoss()\n",
    "optimizer1 = SGD(model_without_hidden_layer.parameters(),lr=lr)\n",
    "losses1 = []\n",
    "accuracy1 = []"
   ]
  },
  {
   "cell_type": "code",
   "execution_count": 33,
   "metadata": {},
   "outputs": [
    {
     "name": "stdout",
     "output_type": "stream",
     "text": [
      "TRAINING MODEL WITH NO HIDDEN LAYERS\n",
      "Epoch 1/100, Loss: 1.911215099825788\n",
      "Epoch 2/100, Loss: 1.3907555265467304\n",
      "Epoch 3/100, Loss: 1.1207895611267862\n",
      "Epoch 4/100, Loss: 0.9637354257772727\n",
      "Epoch 5/100, Loss: 0.8621056011871997\n",
      "Epoch 6/100, Loss: 0.7909510181402601\n",
      "Epoch 7/100, Loss: 0.7378059794335986\n",
      "Epoch 8/100, Loss: 0.6967929616919967\n",
      "Epoch 9/100, Loss: 0.6638298818805833\n",
      "Epoch 10/100, Loss: 0.6367096215613616\n",
      "Epoch 11/100, Loss: 0.614092494792013\n",
      "Epoch 12/100, Loss: 0.5946431413833012\n",
      "Epoch 13/100, Loss: 0.5780272294781101\n",
      "Epoch 14/100, Loss: 0.563424383717051\n",
      "Epoch 15/100, Loss: 0.5503393092008033\n",
      "Epoch 16/100, Loss: 0.538824596861278\n",
      "Epoch 17/100, Loss: 0.5285125764638885\n",
      "Epoch 18/100, Loss: 0.5191605752592148\n",
      "Epoch 19/100, Loss: 0.5105594444884929\n",
      "Epoch 20/100, Loss: 0.5028163339537598\n",
      "Epoch 21/100, Loss: 0.4955303385091235\n",
      "Epoch 22/100, Loss: 0.4889478897934021\n",
      "Epoch 23/100, Loss: 0.4829168328439503\n",
      "Epoch 24/100, Loss: 0.4772203010218992\n",
      "Epoch 25/100, Loss: 0.4718895944864003\n",
      "Epoch 26/100, Loss: 0.46688310217374424\n",
      "Epoch 27/100, Loss: 0.4623334961754681\n",
      "Epoch 28/100, Loss: 0.4577953241972018\n",
      "Epoch 29/100, Loss: 0.4536339728149778\n",
      "Epoch 30/100, Loss: 0.44966939034492476\n",
      "Epoch 31/100, Loss: 0.44608694577077307\n",
      "Epoch 32/100, Loss: 0.4424683718856718\n",
      "Epoch 33/100, Loss: 0.4391937809648798\n",
      "Epoch 34/100, Loss: 0.4359241218518601\n",
      "Epoch 35/100, Loss: 0.43291094802272345\n",
      "Epoch 36/100, Loss: 0.43015864748817517\n",
      "Epoch 37/100, Loss: 0.4273441586254248\n",
      "Epoch 38/100, Loss: 0.4246530879789324\n",
      "Epoch 39/100, Loss: 0.42216453744150173\n",
      "Epoch 40/100, Loss: 0.4196261193261726\n",
      "Epoch 41/100, Loss: 0.4173225284194641\n",
      "Epoch 42/100, Loss: 0.4151121731728379\n",
      "Epoch 43/100, Loss: 0.41282389147767123\n",
      "Epoch 44/100, Loss: 0.4108394221233915\n",
      "Epoch 45/100, Loss: 0.4088398466295779\n",
      "Epoch 46/100, Loss: 0.40680833427763696\n",
      "Epoch 47/100, Loss: 0.4048923406996198\n",
      "Epoch 48/100, Loss: 0.4031596106729274\n",
      "Epoch 49/100, Loss: 0.4014228547750506\n",
      "Epoch 50/100, Loss: 0.3997084248993697\n",
      "Epoch 51/100, Loss: 0.3980597477477751\n",
      "Epoch 52/100, Loss: 0.39630887698707806\n",
      "Epoch 53/100, Loss: 0.3948902431676891\n",
      "Epoch 54/100, Loss: 0.393279709350834\n",
      "Epoch 55/100, Loss: 0.3918385794326695\n",
      "Epoch 56/100, Loss: 0.39051266087652015\n",
      "Epoch 57/100, Loss: 0.3891943983558907\n",
      "Epoch 58/100, Loss: 0.3880090792296029\n",
      "Epoch 59/100, Loss: 0.3864153885066128\n",
      "Epoch 60/100, Loss: 0.3850715008975346\n",
      "Epoch 61/100, Loss: 0.383855898306568\n",
      "Epoch 62/100, Loss: 0.38267848302306395\n",
      "Epoch 63/100, Loss: 0.3815046370442488\n",
      "Epoch 64/100, Loss: 0.38034241400293706\n",
      "Epoch 65/100, Loss: 0.3792567521746733\n",
      "Epoch 66/100, Loss: 0.3783169470425608\n",
      "Epoch 67/100, Loss: 0.3770814200263542\n",
      "Epoch 68/100, Loss: 0.3760465972268505\n",
      "Epoch 69/100, Loss: 0.37493035981237\n",
      "Epoch 70/100, Loss: 0.3738988718148996\n",
      "Epoch 71/100, Loss: 0.37292823800717845\n",
      "Epoch 72/100, Loss: 0.3720193703704551\n",
      "Epoch 73/100, Loss: 0.37108493599492604\n",
      "Epoch 74/100, Loss: 0.37001634287491025\n",
      "Epoch 75/100, Loss: 0.3692317160366695\n",
      "Epoch 76/100, Loss: 0.3683673514327261\n",
      "Epoch 77/100, Loss: 0.3675851917692593\n",
      "Epoch 78/100, Loss: 0.3666442804880488\n",
      "Epoch 79/100, Loss: 0.3657246304314528\n",
      "Epoch 80/100, Loss: 0.36494434145150156\n",
      "Epoch 81/100, Loss: 0.3641540776533104\n",
      "Epoch 82/100, Loss: 0.3635638962184061\n",
      "Epoch 83/100, Loss: 0.3626104850631787\n",
      "Epoch 84/100, Loss: 0.3618019266264525\n",
      "Epoch 85/100, Loss: 0.36111264440741364\n",
      "Epoch 86/100, Loss: 0.36034759635260616\n",
      "Epoch 87/100, Loss: 0.35967366656324246\n",
      "Epoch 88/100, Loss: 0.3589075143053842\n",
      "Epoch 89/100, Loss: 0.3581992890725512\n",
      "Epoch 90/100, Loss: 0.3575441154049658\n",
      "Epoch 91/100, Loss: 0.356733868069359\n",
      "Epoch 92/100, Loss: 0.35616598800936744\n",
      "Epoch 93/100, Loss: 0.35546179586000787\n",
      "Epoch 94/100, Loss: 0.35483461314998965\n",
      "Epoch 95/100, Loss: 0.35429508986471814\n",
      "Epoch 96/100, Loss: 0.35364619099191513\n",
      "Epoch 97/100, Loss: 0.35307250019393244\n",
      "Epoch 98/100, Loss: 0.352386641381646\n",
      "Epoch 99/100, Loss: 0.35193142142377176\n",
      "Epoch 100/100, Loss: 0.3513322466217887\n"
     ]
    }
   ],
   "source": [
    "print(\"TRAINING MODEL WITH NO HIDDEN LAYERS\")\n",
    "for epoch in range(epochs):\n",
    "    epoch_loss = 0\n",
    "    for i ,(xi,yi)in enumerate(trainloader):\n",
    "\n",
    "        output = model_without_hidden_layer(xi)\n",
    "        loss = criterion1(output,yi)\n",
    "        \n",
    "        optimizer1.zero_grad()\n",
    "        loss.backward()\n",
    "        optimizer1.step()\n",
    "        \n",
    "        epoch_loss += loss.item()\n",
    "    avg_loss = epoch_loss / len(trainloader)\n",
    "    losses1.append(avg_loss)\n",
    "    print(f'Epoch {epoch + 1}/{epochs}, Loss: {avg_loss}')"
   ]
  },
  {
   "cell_type": "code",
   "execution_count": 34,
   "metadata": {},
   "outputs": [],
   "source": [
    "PATH = './mnist-no-hidden-layer.pth'\n",
    "torch.save(model_without_hidden_layer.state_dict(), PATH)"
   ]
  },
  {
   "cell_type": "code",
   "execution_count": 35,
   "metadata": {},
   "outputs": [],
   "source": [
    "model_with_hidden_layer = SoftmaxRegHidden(x_dim,hidden_dim,y_dim)\n",
    "criterion2 = nn.CrossEntropyLoss()\n",
    "optimizer2 = SGD(model_with_hidden_layer.parameters(),lr=lr)\n",
    "losses2 = []\n",
    "accuracy2 = []"
   ]
  },
  {
   "cell_type": "code",
   "execution_count": 36,
   "metadata": {},
   "outputs": [
    {
     "name": "stdout",
     "output_type": "stream",
     "text": [
      "Epoch 1/100, Loss: 2.1132131603989266\n",
      "Epoch 2/100, Loss: 1.7461452438378893\n",
      "Epoch 3/100, Loss: 1.398303803604549\n",
      "Epoch 4/100, Loss: 1.1253242507290993\n",
      "Epoch 5/100, Loss: 0.9372929472531846\n",
      "Epoch 6/100, Loss: 0.8106717616001934\n",
      "Epoch 7/100, Loss: 0.7229232500865261\n",
      "Epoch 8/100, Loss: 0.6592888264958539\n",
      "Epoch 9/100, Loss: 0.6114281120457883\n",
      "Epoch 10/100, Loss: 0.5741757362572624\n",
      "Epoch 11/100, Loss: 0.5445227447603302\n",
      "Epoch 12/100, Loss: 0.5202940994107139\n",
      "Epoch 13/100, Loss: 0.5002012607703077\n",
      "Epoch 14/100, Loss: 0.48309241187597896\n",
      "Epoch 15/100, Loss: 0.4685884731124713\n",
      "Epoch 16/100, Loss: 0.45625043275958693\n",
      "Epoch 17/100, Loss: 0.44542287298039335\n",
      "Epoch 18/100, Loss: 0.4359253287506002\n",
      "Epoch 19/100, Loss: 0.4271127372694168\n",
      "Epoch 20/100, Loss: 0.41966130671851926\n",
      "Epoch 21/100, Loss: 0.4128454824023918\n",
      "Epoch 22/100, Loss: 0.4065960398646814\n",
      "Epoch 23/100, Loss: 0.4009627011030722\n",
      "Epoch 24/100, Loss: 0.3958213046383756\n",
      "Epoch 25/100, Loss: 0.3911844312763417\n",
      "Epoch 26/100, Loss: 0.38677879556346295\n",
      "Epoch 27/100, Loss: 0.38268452093227584\n",
      "Epoch 28/100, Loss: 0.3790231894519029\n",
      "Epoch 29/100, Loss: 0.3756712273811735\n",
      "Epoch 30/100, Loss: 0.3721904059304103\n",
      "Epoch 31/100, Loss: 0.3691944350629473\n",
      "Epoch 32/100, Loss: 0.3663289146001405\n",
      "Epoch 33/100, Loss: 0.3636535433277901\n",
      "Epoch 34/100, Loss: 0.3610403991616103\n",
      "Epoch 35/100, Loss: 0.3585787819329101\n",
      "Epoch 36/100, Loss: 0.356470901018648\n",
      "Epoch 37/100, Loss: 0.35407457443506224\n",
      "Epoch 38/100, Loss: 0.3521268706538403\n",
      "Epoch 39/100, Loss: 0.35015696952782716\n",
      "Epoch 40/100, Loss: 0.34823504063302774\n",
      "Epoch 41/100, Loss: 0.34653047036959417\n",
      "Epoch 42/100, Loss: 0.34491766182217265\n",
      "Epoch 43/100, Loss: 0.34310783727019073\n",
      "Epoch 44/100, Loss: 0.3413854555280478\n",
      "Epoch 45/100, Loss: 0.339916774983218\n",
      "Epoch 46/100, Loss: 0.33843001392858624\n",
      "Epoch 47/100, Loss: 0.3371578224464012\n",
      "Epoch 48/100, Loss: 0.33578952915791765\n",
      "Epoch 49/100, Loss: 0.3343477906353438\n",
      "Epoch 50/100, Loss: 0.33305995848609693\n",
      "Epoch 51/100, Loss: 0.3318917554324624\n",
      "Epoch 52/100, Loss: 0.33065755364260696\n",
      "Epoch 53/100, Loss: 0.3296977823842436\n",
      "Epoch 54/100, Loss: 0.3284578486276207\n",
      "Epoch 55/100, Loss: 0.3273188326992333\n",
      "Epoch 56/100, Loss: 0.32649169133098394\n",
      "Epoch 57/100, Loss: 0.3253334280746832\n",
      "Epoch 58/100, Loss: 0.32450477102958064\n",
      "Epoch 59/100, Loss: 0.32341792275592973\n",
      "Epoch 60/100, Loss: 0.32247524783174114\n",
      "Epoch 61/100, Loss: 0.3216968944697365\n",
      "Epoch 62/100, Loss: 0.3207631290419651\n",
      "Epoch 63/100, Loss: 0.3198843513454583\n",
      "Epoch 64/100, Loss: 0.3191390403075767\n",
      "Epoch 65/100, Loss: 0.3183355893550524\n",
      "Epoch 66/100, Loss: 0.3175390313016072\n",
      "Epoch 67/100, Loss: 0.3167462305727798\n",
      "Epoch 68/100, Loss: 0.3160427570867259\n",
      "Epoch 69/100, Loss: 0.3154702426146851\n",
      "Epoch 70/100, Loss: 0.31471190316431813\n",
      "Epoch 71/100, Loss: 0.3138812505630161\n",
      "Epoch 72/100, Loss: 0.31326850732442924\n",
      "Epoch 73/100, Loss: 0.3124533526456432\n",
      "Epoch 74/100, Loss: 0.3121427454467394\n",
      "Epoch 75/100, Loss: 0.31130785080415607\n",
      "Epoch 76/100, Loss: 0.3109338122612632\n",
      "Epoch 77/100, Loss: 0.30995694451780714\n",
      "Epoch 78/100, Loss: 0.309437785424721\n",
      "Epoch 79/100, Loss: 0.30896176579696283\n",
      "Epoch 80/100, Loss: 0.3084487439885831\n",
      "Epoch 81/100, Loss: 0.3078085267022729\n",
      "Epoch 82/100, Loss: 0.30727937318750026\n",
      "Epoch 83/100, Loss: 0.30669420899581046\n",
      "Epoch 84/100, Loss: 0.30610147498246193\n",
      "Epoch 85/100, Loss: 0.3058338887385849\n",
      "Epoch 86/100, Loss: 0.3051704748559481\n",
      "Epoch 87/100, Loss: 0.3045976982235527\n",
      "Epoch 88/100, Loss: 0.3041806203613022\n",
      "Epoch 89/100, Loss: 0.3036111915257694\n",
      "Epoch 90/100, Loss: 0.3031392587956462\n",
      "Epoch 91/100, Loss: 0.30284082950718366\n",
      "Epoch 92/100, Loss: 0.30228261024490605\n",
      "Epoch 93/100, Loss: 0.30181346546961807\n",
      "Epoch 94/100, Loss: 0.30134338172259867\n",
      "Epoch 95/100, Loss: 0.30096718248750354\n",
      "Epoch 96/100, Loss: 0.3004676656666468\n",
      "Epoch 97/100, Loss: 0.30015834697337546\n",
      "Epoch 98/100, Loss: 0.29969712868650583\n",
      "Epoch 99/100, Loss: 0.29945505443793624\n",
      "Epoch 100/100, Loss: 0.29885287500266583\n"
     ]
    }
   ],
   "source": [
    "for epoch in range(epochs):\n",
    "    epoch_loss = 0\n",
    "    for i ,(xi,yi)in enumerate(trainloader):\n",
    "\n",
    "        output = model_with_hidden_layer(xi)\n",
    "        loss = criterion2(output,yi)\n",
    "        \n",
    "        optimizer2.zero_grad()\n",
    "        loss.backward()\n",
    "        optimizer2.step()\n",
    "        \n",
    "        epoch_loss += loss.item()\n",
    "    avg_loss = epoch_loss / len(trainloader)\n",
    "    losses2.append(avg_loss)\n",
    "    print(f'Epoch {epoch + 1}/{epochs}, Loss: {avg_loss}')"
   ]
  },
  {
   "cell_type": "code",
   "execution_count": 37,
   "metadata": {},
   "outputs": [],
   "source": [
    "PATH = './mnist-with-hidden-layer.pth'\n",
    "torch.save(model_with_hidden_layer.state_dict(), PATH)"
   ]
  },
  {
   "cell_type": "code",
   "execution_count": 38,
   "metadata": {},
   "outputs": [
    {
     "data": {
      "text/plain": [
       "Text(0, 0.5, 'Loss')"
      ]
     },
     "execution_count": 38,
     "metadata": {},
     "output_type": "execute_result"
    },
    {
     "data": {
      "image/png": "[encoded data removed]",
      "text/plain": [
       "<Figure size 640x480 with 1 Axes>"
      ]
     },
     "metadata": {},
     "output_type": "display_data"
    }
   ],
   "source": [
    "plt.plot(range(epochs),losses1,label = 'without hidden layer',c='g')\n",
    "plt.plot(range(epochs),losses2,label = 'with hidden layer',c='r')\n",
    "plt.xlabel('Epochs')\n",
    "plt.ylabel('Loss')"
   ]
  },
  {
   "cell_type": "code",
   "execution_count": 39,
   "metadata": {},
   "outputs": [
    {
     "name": "stdout",
     "output_type": "stream",
     "text": [
      "CLASSIFICATION REPORT FOR MODEL WITHOUT HIDDEN LAYERS\n",
      "              precision    recall  f1-score   support\n",
      "\n",
      "         0.0       0.94      0.98      0.96       980\n",
      "         1.0       0.95      0.97      0.96      1135\n",
      "         2.0       0.92      0.87      0.90      1032\n",
      "         3.0       0.90      0.90      0.90      1010\n",
      "         4.0       0.90      0.92      0.91       982\n",
      "         5.0       0.89      0.84      0.87       892\n",
      "         6.0       0.93      0.94      0.93       958\n",
      "         7.0       0.92      0.90      0.91      1028\n",
      "         8.0       0.86      0.87      0.87       974\n",
      "         9.0       0.88      0.89      0.89      1009\n",
      "\n",
      "    accuracy                           0.91     10000\n",
      "   macro avg       0.91      0.91      0.91     10000\n",
      "weighted avg       0.91      0.91      0.91     10000\n",
      "\n"
     ]
    }
   ],
   "source": [
    "model_without_hidden_layer.eval()\n",
    "y_pred = np.array([])\n",
    "y_true = np.array([])\n",
    "with torch.no_grad(): \n",
    "    for xi, yi in testloader:\n",
    "        output = model_without_hidden_layer(xi)\n",
    "        _,y_pred_tensor = torch.max(output,1)\n",
    "        y_pred = np.hstack((y_pred,y_pred_tensor.numpy()))\n",
    "        y_true = np.hstack((y_true,yi.numpy()))\n",
    "\n",
    "print(\"CLASSIFICATION REPORT FOR MODEL WITHOUT HIDDEN LAYERS\")\n",
    "print(classification_report(y_pred=y_pred,y_true=y_true))\n"
   ]
  },
  {
   "cell_type": "code",
   "execution_count": 40,
   "metadata": {},
   "outputs": [
    {
     "name": "stdout",
     "output_type": "stream",
     "text": [
      "CLASSIFICATION REPORT FOR MODEL WITH HIDDEN LAYERS\n",
      "              precision    recall  f1-score   support\n",
      "\n",
      "         0.0       0.95      0.98      0.96       980\n",
      "         1.0       0.96      0.98      0.97      1135\n",
      "         2.0       0.93      0.89      0.91      1032\n",
      "         3.0       0.90      0.91      0.90      1010\n",
      "         4.0       0.91      0.93      0.92       982\n",
      "         5.0       0.89      0.86      0.88       892\n",
      "         6.0       0.93      0.95      0.94       958\n",
      "         7.0       0.93      0.92      0.92      1028\n",
      "         8.0       0.88      0.88      0.88       974\n",
      "         9.0       0.90      0.89      0.89      1009\n",
      "\n",
      "    accuracy                           0.92     10000\n",
      "   macro avg       0.92      0.92      0.92     10000\n",
      "weighted avg       0.92      0.92      0.92     10000\n",
      "\n"
     ]
    }
   ],
   "source": [
    "model_with_hidden_layer.eval()\n",
    "y_pred = np.array([])\n",
    "y_true = np.array([])\n",
    "with torch.no_grad(): \n",
    "    for xi, yi in testloader:\n",
    "        output = model_with_hidden_layer(xi)\n",
    "        _,y_pred_tensor = torch.max(output,1)\n",
    "        y_pred = np.hstack((y_pred,y_pred_tensor.numpy()))\n",
    "        y_true = np.hstack((y_true,yi.numpy()))\n",
    "\n",
    "print(\"CLASSIFICATION REPORT FOR MODEL WITH HIDDEN LAYERS\")\n",
    "print(classification_report(y_pred=y_pred,y_true=y_true))\n"
   ]
  },
  {
   "cell_type": "markdown",
   "metadata": {},
   "source": [
    "Hence we can see that by adding just 1 hidden (that too just a Linear layer) improved the model performance slightly by providing more accuracy and decreasing loss for same no. of epochs"
   ]
  },
  {
   "cell_type": "code",
   "execution_count": null,
   "metadata": {},
   "outputs": [],
   "source": []
  }
 ],
 "metadata": {
  "kernelspec": {
   "display_name": "ex5",
   "language": "python",
   "name": "python3"
  },
  "language_info": {
   "codemirror_mode": {
    "name": "ipython",
    "version": 3
   },
   "file_extension": ".py",
   "mimetype": "text/x-python",
   "name": "python",
   "nbconvert_exporter": "python",
   "pygments_lexer": "ipython3",
   "version": "3.9.19"
  }
 },
 "nbformat": 4,
 "nbformat_minor": 2
}
