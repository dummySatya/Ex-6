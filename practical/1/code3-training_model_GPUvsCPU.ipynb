{
  "nbformat": 4,
  "nbformat_minor": 0,
  "metadata": {
    "colab": {
      "provenance": [],
      "gpuType": "T4"
    },
    "kernelspec": {
      "name": "python3",
      "display_name": "Python 3"
    },
    "language_info": {
      "name": "python"
    },
    "accelerator": "GPU"
  },
  "cells": [
    {
      "cell_type": "code",
      "execution_count": 104,
      "metadata": {
        "id": "sUoEWlBLrc7-"
      },
      "outputs": [],
      "source": [
        "import torch\n",
        "import torch.nn as nn\n",
        "from torchvision import datasets, transforms\n",
        "from torch.utils.data import DataLoader\n",
        "from torch.optim import SGD\n",
        "import numpy as np\n",
        "from sklearn.metrics import classification_report\n",
        "import matplotlib.pyplot as plt\n",
        "import time"
      ]
    },
    {
      "cell_type": "code",
      "source": [
        "transforms = transforms.Compose([\n",
        "    transforms.ToTensor(),\n",
        "    transforms.Lambda(lambda x: x.view(-1)) # flattens the data\n",
        "])"
      ],
      "metadata": {
        "id": "ueo9l24EtUH5"
      },
      "execution_count": 105,
      "outputs": []
    },
    {
      "cell_type": "code",
      "source": [
        "batch_size = 512\n",
        "\n",
        "trainset = datasets.MNIST(root='./data', train=True,\n",
        "                                        download=True, transform=transforms)\n",
        "trainloader = DataLoader(trainset, batch_size=batch_size,\n",
        "                                          shuffle=True, num_workers=2)\n",
        "\n",
        "testset = datasets.MNIST(root='./data', train=False,\n",
        "                                       download=True, transform=transforms)\n",
        "testloader = DataLoader(testset, batch_size=batch_size,\n",
        "                                         shuffle=False, num_workers=2)"
      ],
      "metadata": {
        "id": "iJwQE5ffuiQ0"
      },
      "execution_count": 133,
      "outputs": []
    },
    {
      "cell_type": "code",
      "source": [
        "trainset[0][0].shape"
      ],
      "metadata": {
        "colab": {
          "base_uri": "https://localhost:8080/"
        },
        "id": "94SYhxCXulI4",
        "outputId": "31515cc8-5595-4304-bace-29cb67c9b910"
      },
      "execution_count": 134,
      "outputs": [
        {
          "output_type": "execute_result",
          "data": {
            "text/plain": [
              "torch.Size([784])"
            ]
          },
          "metadata": {},
          "execution_count": 134
        }
      ]
    },
    {
      "cell_type": "code",
      "source": [
        "# No. of samples in trainset\n",
        "len(trainloader) * batch_size"
      ],
      "metadata": {
        "colab": {
          "base_uri": "https://localhost:8080/"
        },
        "id": "CNb7BhDOuuPb",
        "outputId": "ff28c18e-6a33-41f0-f352-4091ab52f7d7"
      },
      "execution_count": 135,
      "outputs": [
        {
          "output_type": "execute_result",
          "data": {
            "text/plain": [
              "60416"
            ]
          },
          "metadata": {},
          "execution_count": 135
        }
      ]
    },
    {
      "cell_type": "code",
      "source": [
        "# No. of samples in testset\n",
        "len(testloader) * batch_size"
      ],
      "metadata": {
        "colab": {
          "base_uri": "https://localhost:8080/"
        },
        "id": "CqOrnHh9uu3q",
        "outputId": "202fb688-6d6c-4b0c-9091-fa9306e56a5f"
      },
      "execution_count": 136,
      "outputs": [
        {
          "output_type": "execute_result",
          "data": {
            "text/plain": [
              "10240"
            ]
          },
          "metadata": {},
          "execution_count": 136
        }
      ]
    },
    {
      "cell_type": "code",
      "source": [
        "class SoftmaxReg(nn.Module):\n",
        "    def __init__(self, x_dim,hidden_dim,y_dim):\n",
        "        super(SoftmaxReg,self).__init__()\n",
        "        self.linear1 = nn.Linear(x_dim,hidden_dim)\n",
        "        self.relu = nn.ReLU()\n",
        "        self.linear2 = nn.Linear(hidden_dim,y_dim)\n",
        "    def forward(self,X):\n",
        "        X = self.linear1(X)\n",
        "        X = self.relu(X)\n",
        "        X = self.linear2(X)\n",
        "        return X"
      ],
      "metadata": {
        "id": "TOrylU7xuxSE"
      },
      "execution_count": 137,
      "outputs": []
    },
    {
      "cell_type": "code",
      "source": [
        "def train_model(model, trainloader, device, epochs, lr):\n",
        "    model = model.to(device)\n",
        "    criterion = nn.CrossEntropyLoss()\n",
        "    optimizer = SGD(model.parameters(), lr=lr)\n",
        "    losses = []\n",
        "    for epoch in range(epochs):\n",
        "        epoch_loss = 0\n",
        "        for xi, yi in trainloader:\n",
        "            xi, yi = xi.to(device), yi.to(device)\n",
        "            output = model(xi)\n",
        "            loss = criterion(output, yi)\n",
        "\n",
        "            optimizer.zero_grad()\n",
        "            loss.backward()\n",
        "            optimizer.step()\n",
        "\n",
        "            epoch_loss += loss.item()\n",
        "        avg_loss = epoch_loss / len(trainloader)\n",
        "        losses.append(avg_loss)\n",
        "        print(f'Epoch {epoch + 1}/{epochs}, Loss: {avg_loss}')\n",
        "    return losses\n"
      ],
      "metadata": {
        "id": "RBTuxFkSzf1R"
      },
      "execution_count": 138,
      "outputs": []
    },
    {
      "cell_type": "code",
      "source": [
        "def test_model(model, testloader, device):\n",
        "    model.eval()\n",
        "    y_pred = np.array([])\n",
        "    y_true = np.array([])\n",
        "    with torch.no_grad():\n",
        "        for xi, yi in testloader:\n",
        "            xi,yi = xi.to(device), yi.to(device)\n",
        "            output = model(xi)\n",
        "            _,y_pred_tensor = torch.max(output,1)\n",
        "            y_pred = np.hstack((y_pred,y_pred_tensor.cpu().numpy()))\n",
        "            y_true = np.hstack((y_true,yi.cpu().numpy()))\n",
        "    return (classification_report(y_pred=y_pred,y_true=y_true))"
      ],
      "metadata": {
        "id": "6aQlDuTi0Z5r"
      },
      "execution_count": 139,
      "outputs": []
    },
    {
      "cell_type": "code",
      "source": [
        "torch.get_default_device()"
      ],
      "metadata": {
        "colab": {
          "base_uri": "https://localhost:8080/"
        },
        "id": "Us3O2q2a5ygi",
        "outputId": "7c2b6ace-07dc-40ae-8494-1ece87d0a389"
      },
      "execution_count": 140,
      "outputs": [
        {
          "output_type": "execute_result",
          "data": {
            "text/plain": [
              "device(type='cpu')"
            ]
          },
          "metadata": {},
          "execution_count": 140
        }
      ]
    },
    {
      "cell_type": "code",
      "source": [
        "x_dim = trainset[0][0].shape[0]\n",
        "y_dim = 10\n",
        "hidden_dim = 512\n",
        "epochs = 30\n",
        "lr = 0.001\n",
        "train_time_gpu = 0\n",
        "test_time_gpu = 0\n",
        "train_time_cpu = 0\n",
        "test_time_cpu = 0"
      ],
      "metadata": {
        "id": "mwhUMhR0u8O6"
      },
      "execution_count": 144,
      "outputs": []
    },
    {
      "cell_type": "code",
      "source": [
        "device = torch.device('cpu')"
      ],
      "metadata": {
        "id": "KfaMFmos6NEh"
      },
      "execution_count": 145,
      "outputs": []
    },
    {
      "cell_type": "code",
      "source": [
        "modelOnCPU = SoftmaxReg(x_dim,hidden_dim,y_dim)\n",
        "start = time.time()\n",
        "losses2 = train_model(modelOnCPU,trainloader,device,epochs,lr)\n",
        "end = time.time()\n",
        "train_time_cpu = end - start\n",
        "print(\"Training Time: \",train_time_cpu)"
      ],
      "metadata": {
        "colab": {
          "base_uri": "https://localhost:8080/"
        },
        "id": "9RraJ8dTvfUp",
        "outputId": "d877a16a-40b3-49c2-ae8d-4f59ff090938"
      },
      "execution_count": 146,
      "outputs": [
        {
          "output_type": "stream",
          "name": "stdout",
          "text": [
            "Epoch 1/30, Loss: 2.290090332596989\n",
            "Epoch 2/30, Loss: 2.261552851078874\n",
            "Epoch 3/30, Loss: 2.2331668946702603\n",
            "Epoch 4/30, Loss: 2.2049347808805564\n",
            "Epoch 5/30, Loss: 2.1761147450592557\n",
            "Epoch 6/30, Loss: 2.1464892484373967\n",
            "Epoch 7/30, Loss: 2.116098201881021\n",
            "Epoch 8/30, Loss: 2.0845363625025346\n",
            "Epoch 9/30, Loss: 2.0517754090034357\n",
            "Epoch 10/30, Loss: 2.0176795266442378\n",
            "Epoch 11/30, Loss: 1.9824785297199832\n",
            "Epoch 12/30, Loss: 1.9460439257702584\n",
            "Epoch 13/30, Loss: 1.9083290140507585\n",
            "Epoch 14/30, Loss: 1.8700515122736914\n",
            "Epoch 15/30, Loss: 1.8301323914931993\n",
            "Epoch 16/30, Loss: 1.789516857114889\n",
            "Epoch 17/30, Loss: 1.7489651663828705\n",
            "Epoch 18/30, Loss: 1.7069324345911963\n",
            "Epoch 19/30, Loss: 1.6648943525249675\n",
            "Epoch 20/30, Loss: 1.6225956890542628\n",
            "Epoch 21/30, Loss: 1.5804480182922493\n",
            "Epoch 22/30, Loss: 1.5392572607024242\n",
            "Epoch 23/30, Loss: 1.498210090701863\n",
            "Epoch 24/30, Loss: 1.4581078594013797\n",
            "Epoch 25/30, Loss: 1.417989894495172\n",
            "Epoch 26/30, Loss: 1.3790308287588215\n",
            "Epoch 27/30, Loss: 1.3421519519919056\n",
            "Epoch 28/30, Loss: 1.305013096938699\n",
            "Epoch 29/30, Loss: 1.27076788170863\n",
            "Epoch 30/30, Loss: 1.2376388745792841\n",
            "Training Time:  231.94532823562622\n"
          ]
        }
      ]
    },
    {
      "cell_type": "code",
      "source": [
        "print(\"CLASSIFICATION REPORT FOR MODEL TRAINED ON CPU\")\n",
        "start = time.time()\n",
        "report_cpu = test_model(modelOnCPU,testloader,device)\n",
        "end = time.time()\n",
        "test_time_cpu = end - start\n",
        "print(report_cpu)\n",
        "print(\"Testing Time: \",test_time_cpu)"
      ],
      "metadata": {
        "colab": {
          "base_uri": "https://localhost:8080/"
        },
        "id": "HDhtYywAvrcz",
        "outputId": "3d407d4e-edaa-4fa1-8649-712b47ae583c"
      },
      "execution_count": 147,
      "outputs": [
        {
          "output_type": "stream",
          "name": "stdout",
          "text": [
            "CLASSIFICATION REPORT FOR MODEL TRAINED ON CPU\n",
            "              precision    recall  f1-score   support\n",
            "\n",
            "         0.0       0.83      0.96      0.89       980\n",
            "         1.0       0.78      0.97      0.86      1135\n",
            "         2.0       0.87      0.76      0.81      1032\n",
            "         3.0       0.68      0.88      0.77      1010\n",
            "         4.0       0.84      0.81      0.82       982\n",
            "         5.0       0.94      0.38      0.54       892\n",
            "         6.0       0.82      0.90      0.86       958\n",
            "         7.0       0.84      0.87      0.85      1028\n",
            "         8.0       0.78      0.70      0.74       974\n",
            "         9.0       0.80      0.75      0.77      1009\n",
            "\n",
            "    accuracy                           0.80     10000\n",
            "   macro avg       0.82      0.80      0.79     10000\n",
            "weighted avg       0.82      0.80      0.79     10000\n",
            "\n",
            "Testing Time:  1.1664602756500244\n"
          ]
        }
      ]
    },
    {
      "cell_type": "code",
      "source": [
        "device = torch.device('cuda')\n",
        "torch.cuda.get_device_name(0)"
      ],
      "metadata": {
        "colab": {
          "base_uri": "https://localhost:8080/",
          "height": 55
        },
        "id": "VFa9jH4X5_P4",
        "outputId": "6ad0c536-2f22-4ff5-f296-0fb6c22469d3"
      },
      "execution_count": 148,
      "outputs": [
        {
          "output_type": "execute_result",
          "data": {
            "text/plain": [
              "'Tesla T4'"
            ],
            "application/vnd.google.colaboratory.intrinsic+json": {
              "type": "string"
            }
          },
          "metadata": {},
          "execution_count": 148
        }
      ]
    },
    {
      "cell_type": "code",
      "source": [
        "modelOnGPU = SoftmaxReg(x_dim,hidden_dim,y_dim)\n",
        "start = time.time()\n",
        "losses1 = train_model(modelOnGPU,trainloader,device,epochs,lr)\n",
        "end = time.time()\n",
        "train_time_gpu = end - start\n",
        "print(\"Training Time: \",train_time_gpu)"
      ],
      "metadata": {
        "colab": {
          "base_uri": "https://localhost:8080/"
        },
        "id": "8j8cvHwv58GL",
        "outputId": "588b4f19-1994-4dc3-bf92-f9982acb6a1f"
      },
      "execution_count": 149,
      "outputs": [
        {
          "output_type": "stream",
          "name": "stdout",
          "text": [
            "Epoch 1/30, Loss: 2.282423290155702\n",
            "Epoch 2/30, Loss: 2.2552043906712935\n",
            "Epoch 3/30, Loss: 2.227971875061423\n",
            "Epoch 4/30, Loss: 2.2004024982452393\n",
            "Epoch 5/30, Loss: 2.1722303891586043\n",
            "Epoch 6/30, Loss: 2.1431534492363364\n",
            "Epoch 7/30, Loss: 2.1129563966039884\n",
            "Epoch 8/30, Loss: 2.0813021478006397\n",
            "Epoch 9/30, Loss: 2.0485307160070385\n",
            "Epoch 10/30, Loss: 2.0143432869749556\n",
            "Epoch 11/30, Loss: 1.9792044556747048\n",
            "Epoch 12/30, Loss: 1.9421035334215326\n",
            "Epoch 13/30, Loss: 1.9036995455370112\n",
            "Epoch 14/30, Loss: 1.8643511786299236\n",
            "Epoch 15/30, Loss: 1.8237993212069494\n",
            "Epoch 16/30, Loss: 1.7821337348323758\n",
            "Epoch 17/30, Loss: 1.7405680781703885\n",
            "Epoch 18/30, Loss: 1.69799532223556\n",
            "Epoch 19/30, Loss: 1.6557326306731015\n",
            "Epoch 20/30, Loss: 1.6130362486435195\n",
            "Epoch 21/30, Loss: 1.570487991227942\n",
            "Epoch 22/30, Loss: 1.5282834131838912\n",
            "Epoch 23/30, Loss: 1.4864497699980008\n",
            "Epoch 24/30, Loss: 1.4466146998486276\n",
            "Epoch 25/30, Loss: 1.4063223135673393\n",
            "Epoch 26/30, Loss: 1.3680662522881717\n",
            "Epoch 27/30, Loss: 1.330442940784713\n",
            "Epoch 28/30, Loss: 1.29403085223699\n",
            "Epoch 29/30, Loss: 1.2588189001810752\n",
            "Epoch 30/30, Loss: 1.2262509960239216\n",
            "Training Time:  200.38443613052368\n"
          ]
        }
      ]
    },
    {
      "cell_type": "code",
      "source": [
        "print(\"CLASSIFICATION REPORT FOR MODEL TRAINED ON GPU\")\n",
        "start = time.time()\n",
        "report_gpu = test_model(modelOnGPU,testloader,device)\n",
        "end = time.time()\n",
        "test_time_gpu = end - start\n",
        "print(report_gpu)\n",
        "print(\"Testing Time: \",test_time_gpu)"
      ],
      "metadata": {
        "id": "o8mzXypN5-mf",
        "colab": {
          "base_uri": "https://localhost:8080/"
        },
        "outputId": "69a267ef-47b4-4c63-93f8-c53f3e91ee47"
      },
      "execution_count": 150,
      "outputs": [
        {
          "output_type": "stream",
          "name": "stdout",
          "text": [
            "CLASSIFICATION REPORT FOR MODEL TRAINED ON GPU\n",
            "              precision    recall  f1-score   support\n",
            "\n",
            "         0.0       0.83      0.96      0.89       980\n",
            "         1.0       0.78      0.97      0.86      1135\n",
            "         2.0       0.86      0.76      0.81      1032\n",
            "         3.0       0.67      0.87      0.76      1010\n",
            "         4.0       0.82      0.80      0.81       982\n",
            "         5.0       0.95      0.33      0.48       892\n",
            "         6.0       0.83      0.91      0.87       958\n",
            "         7.0       0.83      0.86      0.84      1028\n",
            "         8.0       0.79      0.73      0.76       974\n",
            "         9.0       0.78      0.76      0.77      1009\n",
            "\n",
            "    accuracy                           0.80     10000\n",
            "   macro avg       0.82      0.79      0.79     10000\n",
            "weighted avg       0.81      0.80      0.79     10000\n",
            "\n",
            "Testing Time:  1.1288127899169922\n"
          ]
        }
      ]
    },
    {
      "cell_type": "code",
      "source": [
        "plt.plot(range(epochs),losses1,label = 'with GPU',c='g')\n",
        "plt.plot(range(epochs),losses2,label = 'with CPU',c='r')\n",
        "plt.xlabel('Epochs')\n",
        "plt.ylabel('Loss')"
      ],
      "metadata": {
        "colab": {
          "base_uri": "https://localhost:8080/",
          "height": 486
        },
        "id": "IHzVMzySw381",
        "outputId": "f73288d2-fb01-4879-f98c-d64382ffed01"
      },
      "execution_count": 151,
      "outputs": [
        {
          "output_type": "execute_result",
          "data": {
            "text/plain": [
              "Text(0, 0.5, 'Loss')"
            ]
          },
          "metadata": {},
          "execution_count": 151
        },
        {
          "output_type": "display_data",
          "data": {
            "text/plain": [
              "<Figure size 640x480 with 1 Axes>"
            ],
            "image/png": "[encoded data removed]"
          },
          "metadata": {}
        }
      ]
    },
    {
      "cell_type": "code",
      "source": [
        "plt.figure(figsize=(8, 5))\n",
        "plt.bar(['GPU','CPU'], [train_time_gpu,train_time_cpu], color=['blue', 'orange'])\n",
        "plt.ylabel(\"Training Time (seconds)\")\n",
        "plt.title(\"Training Time Comparison: CPU vs GPU\")"
      ],
      "metadata": {
        "colab": {
          "base_uri": "https://localhost:8080/",
          "height": 505
        },
        "id": "-bEJygk-2fGF",
        "outputId": "4e648f29-e6fd-4b12-966d-b354ef707783"
      },
      "execution_count": 152,
      "outputs": [
        {
          "output_type": "execute_result",
          "data": {
            "text/plain": [
              "Text(0.5, 1.0, 'Training Time Comparison: CPU vs GPU')"
            ]
          },
          "metadata": {},
          "execution_count": 152
        },
        {
          "output_type": "display_data",
          "data": {
            "text/plain": [
              "<Figure size 800x500 with 1 Axes>"
            ],
            "image/png": "[encoded data removed]"
          },
          "metadata": {}
        }
      ]
    },
    {
      "cell_type": "code",
      "source": [
        "plt.figure(figsize=(8, 5))\n",
        "plt.bar(['GPU','CPU'], [test_time_gpu,test_time_cpu], color=['blue', 'orange'])\n",
        "plt.ylabel(\"Testing Time (seconds)\")\n",
        "plt.title(\"Testing Time Comparison: CPU vs GPU\")"
      ],
      "metadata": {
        "colab": {
          "base_uri": "https://localhost:8080/",
          "height": 505
        },
        "id": "AW2rLHMy2119",
        "outputId": "99f32f94-4387-4ba6-8275-1287a2942817"
      },
      "execution_count": 153,
      "outputs": [
        {
          "output_type": "execute_result",
          "data": {
            "text/plain": [
              "Text(0.5, 1.0, 'Testing Time Comparison: CPU vs GPU')"
            ]
          },
          "metadata": {},
          "execution_count": 153
        },
        {
          "output_type": "display_data",
          "data": {
            "text/plain": [
              "<Figure size 800x500 with 1 Axes>"
            ],
            "image/png": "[encoded data removed]"
          },
          "metadata": {}
        }
      ]
    },
    {
      "cell_type": "code",
      "source": [],
      "metadata": {
        "id": "AaiFv2wB4Ief"
      },
      "execution_count": null,
      "outputs": []
    }
  ]
}